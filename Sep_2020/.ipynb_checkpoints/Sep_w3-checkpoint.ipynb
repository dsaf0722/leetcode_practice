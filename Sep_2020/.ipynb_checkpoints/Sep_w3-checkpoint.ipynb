{
 "cells": [
  {
   "cell_type": "markdown",
   "metadata": {},
   "source": [
    "### 9/14"
   ]
  },
  {
   "cell_type": "markdown",
   "metadata": {},
   "source": [
    "### 104. Maximum Depth of Binary Tree"
   ]
  },
  {
   "cell_type": "code",
   "execution_count": 2,
   "metadata": {},
   "outputs": [],
   "source": [
    "class Solution:\n",
    "    def maxDepth(root):\n",
    "        if root==None:\n",
    "            return 0\n",
    "        elif root.left==None and root.right == None:\n",
    "            return 1\n",
    "        return max(Solution.maxDepth(root.left),Solution.maxDepth(root.right))+1"
   ]
  },
  {
   "cell_type": "code",
   "execution_count": 4,
   "metadata": {},
   "outputs": [],
   "source": [
    "from collections import Counter\n",
    "s='aaabbbcccd'"
   ]
  },
  {
   "cell_type": "markdown",
   "metadata": {},
   "source": [
    "### First Unique Character in a String"
   ]
  },
  {
   "cell_type": "code",
   "execution_count": 6,
   "metadata": {},
   "outputs": [],
   "source": [
    "from collections import Counter\n",
    "class Solution:\n",
    "    def firstUniqChar(self, s: str) -> int:\n",
    "        k_lst=list(Counter(s).keys())\n",
    "        v_lst=list(Counter(s).values())\n",
    "        ans = [s.index(k_lst[i]) for i in range(len(k_lst)) if v_lst[i]==1]\n",
    "        ans = ans[0] if len(ans)>0 else -1\n",
    "        return ans "
   ]
  },
  {
   "cell_type": "code",
   "execution_count": 7,
   "metadata": {},
   "outputs": [
    {
     "data": {
      "text/plain": [
       "8"
      ]
     },
     "execution_count": 7,
     "metadata": {},
     "output_type": "execute_result"
    }
   ],
   "source": [
    "s='aabbccddeff'\n",
    "Solution.firstUniqChar(s,s)"
   ]
  },
  {
   "cell_type": "markdown",
   "metadata": {},
   "source": [
    "### 268. Missing Number"
   ]
  },
  {
   "cell_type": "code",
   "execution_count": 2,
   "metadata": {},
   "outputs": [],
   "source": [
    "class Solution:\n",
    "    def missingNumber(nums):\n",
    "        if len(nums)==1:\n",
    "            if nums[0]==0:\n",
    "                return 1\n",
    "            elif nums[0]==1:\n",
    "                return 0\n",
    "        nums.sort()\n",
    "        if nums[0]!=0:\n",
    "            return 0\n",
    "        for i in range(len(nums)-1):\n",
    "            if nums[i]+1!=nums[i+1]:\n",
    "                return nums[i]+1\n",
    "        return nums[i+1]+1"
   ]
  },
  {
   "cell_type": "code",
   "execution_count": 3,
   "metadata": {},
   "outputs": [
    {
     "data": {
      "text/plain": [
       "2"
      ]
     },
     "execution_count": 3,
     "metadata": {},
     "output_type": "execute_result"
    }
   ],
   "source": [
    "nums=[0,1,3,4,5,6,7,8]\n",
    "Solution.missingNumber(nums)"
   ]
  },
  {
   "cell_type": "markdown",
   "metadata": {},
   "source": [
    "### 202. Happy Number"
   ]
  },
  {
   "cell_type": "code",
   "execution_count": 4,
   "metadata": {},
   "outputs": [],
   "source": [
    "class Solution:\n",
    "    def isHappy(n):\n",
    "        count=0\n",
    "        while count<10:\n",
    "            new_n=0\n",
    "            for i in str(n):\n",
    "                new_n+=int(i)**2\n",
    "            n=new_n\n",
    "            if n==1:\n",
    "                return True\n",
    "            elif str(n)[-1]==6 or str(n)[-1]==8 or str(n)[-1]==4:\n",
    "                return False\n",
    "            count+=1\n",
    "        else:\n",
    "            return False"
   ]
  },
  {
   "cell_type": "code",
   "execution_count": 5,
   "metadata": {},
   "outputs": [
    {
     "data": {
      "text/plain": [
       "True"
      ]
     },
     "execution_count": 5,
     "metadata": {},
     "output_type": "execute_result"
    }
   ],
   "source": [
    "n=536\n",
    "Solution.isHappy(n)"
   ]
  },
  {
   "cell_type": "markdown",
   "metadata": {},
   "source": [
    "### 9/15"
   ]
  },
  {
   "cell_type": "markdown",
   "metadata": {},
   "source": [
    "### 1572. Matrix Diagonal Sum"
   ]
  },
  {
   "cell_type": "code",
   "execution_count": 2,
   "metadata": {},
   "outputs": [],
   "source": [
    "class Solution:\n",
    "    def diagonalSum(mat):\n",
    "        ans_primary=[]\n",
    "        i,j=0,0\n",
    "        while i<len(mat) and j<len(mat):\n",
    "            ans_primary.append(mat[i][j])\n",
    "            i+=1\n",
    "            j+=1\n",
    "        ans_second=[]\n",
    "        i,j=len(mat)-1,0\n",
    "        while i>=0 and j<len(mat):\n",
    "            ans_second.append(mat[i][j])\n",
    "            i-=1\n",
    "            j+=1\n",
    "        ans = sum(ans_primary)+sum(ans_second)\n",
    "        ans = ans-mat[len(mat)//2][len(mat)//2] if len(mat)%2 !=0 else ans\n",
    "        return ans"
   ]
  },
  {
   "cell_type": "code",
   "execution_count": 3,
   "metadata": {},
   "outputs": [
    {
     "data": {
      "text/plain": [
       "25"
      ]
     },
     "execution_count": 3,
     "metadata": {},
     "output_type": "execute_result"
    }
   ],
   "source": [
    "mat=[[1,2,3],[4,5,6],[7,8,9]]\n",
    "Solution.diagonalSum(mat)"
   ]
  },
  {
   "cell_type": "markdown",
   "metadata": {},
   "source": [
    "### 191. Number of 1 Bits"
   ]
  },
  {
   "cell_type": "code",
   "execution_count": 16,
   "metadata": {},
   "outputs": [],
   "source": [
    "class Solution:\n",
    "    def hammingWeight(self, n: int) -> int:\n",
    "        return bin(n).count('1')"
   ]
  },
  {
   "cell_type": "code",
   "execution_count": 17,
   "metadata": {},
   "outputs": [
    {
     "data": {
      "text/plain": [
       "3"
      ]
     },
     "execution_count": 17,
     "metadata": {},
     "output_type": "execute_result"
    }
   ],
   "source": [
    "n=0b1011\n",
    "Solution.hammingWeight(n,n)"
   ]
  },
  {
   "cell_type": "markdown",
   "metadata": {},
   "source": [
    "### Length of Last Word"
   ]
  },
  {
   "cell_type": "code",
   "execution_count": 18,
   "metadata": {},
   "outputs": [],
   "source": [
    "import re\n",
    "class Solution:\n",
    "    def lengthOfLastWord(self, s: str) -> int:\n",
    "        ans=re.findall(r'[a-z]+',s.lower())\n",
    "        ans = 0 if len(ans)==0 else len(ans[-1])\n",
    "        return ans"
   ]
  },
  {
   "cell_type": "code",
   "execution_count": 19,
   "metadata": {},
   "outputs": [
    {
     "data": {
      "text/plain": [
       "5"
      ]
     },
     "execution_count": 19,
     "metadata": {},
     "output_type": "execute_result"
    }
   ],
   "source": [
    "s='Hello world'\n",
    "Solution.lengthOfLastWord(s,s)"
   ]
  },
  {
   "cell_type": "markdown",
   "metadata": {},
   "source": [
    "### 9/16"
   ]
  },
  {
   "cell_type": "markdown",
   "metadata": {},
   "source": [
    "### 709. To Lower Case"
   ]
  },
  {
   "cell_type": "code",
   "execution_count": 2,
   "metadata": {},
   "outputs": [],
   "source": [
    "class Solution:\n",
    "    def toLowerCase(self, str: str) -> str:\n",
    "        return str.lower()"
   ]
  },
  {
   "cell_type": "code",
   "execution_count": 3,
   "metadata": {},
   "outputs": [
    {
     "data": {
      "text/plain": [
       "'hello world'"
      ]
     },
     "execution_count": 3,
     "metadata": {},
     "output_type": "execute_result"
    }
   ],
   "source": [
    "s='HELLO world'\n",
    "Solution.toLowerCase(s,s)"
   ]
  }
 ],
 "metadata": {
  "kernelspec": {
   "display_name": "IIIMaterial",
   "language": "python",
   "name": "iiimaterial"
  },
  "language_info": {
   "codemirror_mode": {
    "name": "ipython",
    "version": 3
   },
   "file_extension": ".py",
   "mimetype": "text/x-python",
   "name": "python",
   "nbconvert_exporter": "python",
   "pygments_lexer": "ipython3",
   "version": "3.6.8"
  }
 },
 "nbformat": 4,
 "nbformat_minor": 4
}
