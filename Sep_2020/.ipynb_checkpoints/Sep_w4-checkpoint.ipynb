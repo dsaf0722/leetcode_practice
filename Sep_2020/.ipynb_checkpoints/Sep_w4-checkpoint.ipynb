{
 "cells": [
  {
   "cell_type": "markdown",
   "metadata": {},
   "source": [
    "### 9/22"
   ]
  },
  {
   "cell_type": "markdown",
   "metadata": {},
   "source": [
    "### Majority Element II"
   ]
  },
  {
   "cell_type": "code",
   "execution_count": 2,
   "metadata": {},
   "outputs": [],
   "source": [
    "from collections import Counter\n",
    "class Solution:\n",
    "    def majorityElement(self, nums):\n",
    "        value_lst=list(Counter(nums).values())\n",
    "        key_lst=list(Counter(nums).keys())\n",
    "        ans=[]\n",
    "        ans = ans + [key_lst[i] for i in range(len(value_lst)) if value_lst[i]>len(nums)/3]\n",
    "        return ans"
   ]
  },
  {
   "cell_type": "code",
   "execution_count": 9,
   "metadata": {},
   "outputs": [
    {
     "data": {
      "text/plain": [
       "[1, 2]"
      ]
     },
     "execution_count": 9,
     "metadata": {},
     "output_type": "execute_result"
    }
   ],
   "source": [
    "nums=[1,2,3,4,5,1,2,3,1,2,1,2,1,1,1,2,2,2]\n",
    "Solution.majorityElement(nums,nums)"
   ]
  },
  {
   "cell_type": "markdown",
   "metadata": {},
   "source": [
    "### 155. Min Stack"
   ]
  },
  {
   "cell_type": "code",
   "execution_count": 11,
   "metadata": {},
   "outputs": [],
   "source": [
    "class MinStack:\n",
    "\n",
    "    def __init__(self):\n",
    "        \"\"\"\n",
    "        initialize your data structure here.\n",
    "        \"\"\"\n",
    "        self.lst=[]\n",
    "    def push(self, x: int) -> None:\n",
    "        self.lst.append(x)\n",
    "\n",
    "    def pop(self) -> None:\n",
    "        self.lst.pop()        \n",
    "\n",
    "    def top(self) -> int:\n",
    "        return self.lst[-1]\n",
    "\n",
    "    def getMin(self) -> int:\n",
    "        return min(self.lst)"
   ]
  },
  {
   "cell_type": "markdown",
   "metadata": {},
   "source": [
    "### 9/23"
   ]
  },
  {
   "cell_type": "markdown",
   "metadata": {},
   "source": [
    "### Gas Station"
   ]
  },
  {
   "cell_type": "code",
   "execution_count": 4,
   "metadata": {},
   "outputs": [],
   "source": [
    "# Time Limit Exceeded\n",
    "class Solution:\n",
    "    def canCompleteCircuit(gas, cost) -> int:\n",
    "        if len(gas)==1 and gas[0]>=cost[0]:\n",
    "            return 0\n",
    "        possible=[]\n",
    "        possible += [i for i in range(len(gas)) if gas[i]>cost[i]]\n",
    "        if len(possible)==0:\n",
    "            return -1\n",
    "        tmp=0\n",
    "        ans=[]\n",
    "        for i in possible:\n",
    "            start=i\n",
    "            tmp+=gas[i]\n",
    "            i = i+1 if i+1<len(gas) else 0\n",
    "            tmp_lst=0\n",
    "            while i!=start:\n",
    "                prev=i-1 if i-1>=0 else len(gas)-1\n",
    "                tmp-=cost[prev]\n",
    "                if tmp<0:\n",
    "                    tmp_lst=tmp_lst-1\n",
    "                    break\n",
    "                tmp+=gas[i]\n",
    "                i = i+1 if i+1<len(gas) else 0 \n",
    "            prev=i-1 if i-1>=0 else len(gas)-1\n",
    "            tmp-=cost[prev]\n",
    "            tmp_lst = tmp_lst-1 if tmp<0 else tmp_lst\n",
    "            if tmp_lst==0:\n",
    "                ans.append(start)\n",
    "            tmp=0\n",
    "        ans=ans[0] if len(ans)>0 else -1\n",
    "        return ans"
   ]
  },
  {
   "cell_type": "code",
   "execution_count": 3,
   "metadata": {},
   "outputs": [
    {
     "data": {
      "text/plain": [
       "3"
      ]
     },
     "execution_count": 3,
     "metadata": {},
     "output_type": "execute_result"
    }
   ],
   "source": [
    "gas=[1,2,3,4,5]\n",
    "cost=[5,4,3,2,1]\n",
    "Solution.canCompleteCircuit(gas,cost)"
   ]
  },
  {
   "cell_type": "code",
   "execution_count": 7,
   "metadata": {},
   "outputs": [],
   "source": [
    "ans=0\n",
    "idx=0\n",
    "def auto_plus(idx):\n",
    "    if idx==0\n",
    "        \n",
    "    ans=auto_plus(0)\n",
    "    gas[idx]-cost[idx]\n",
    "    return auto_plus(idx-1)"
   ]
  },
  {
   "cell_type": "code",
   "execution_count": null,
   "metadata": {},
   "outputs": [],
   "source": []
  },
  {
   "cell_type": "markdown",
   "metadata": {},
   "source": [
    "### 9/25"
   ]
  },
  {
   "cell_type": "markdown",
   "metadata": {},
   "source": [
    "### Find the Difference"
   ]
  },
  {
   "cell_type": "code",
   "execution_count": 3,
   "metadata": {},
   "outputs": [],
   "source": [
    "from collections import Counter\n",
    "class Solution:\n",
    "    def findTheDifference(s, t):\n",
    "        s=sorted(s)\n",
    "        t=sorted(t)\n",
    "        for i in range(len(Counter(s).values())):\n",
    "            if list(Counter(t).values())[i]!=list(Counter(s).values())[i]:\n",
    "                return list(Counter(s).keys())[i]\n",
    "        return list(Counter(t).keys())[-1]"
   ]
  },
  {
   "cell_type": "code",
   "execution_count": 4,
   "metadata": {},
   "outputs": [
    {
     "data": {
      "text/plain": [
       "'f'"
      ]
     },
     "execution_count": 4,
     "metadata": {},
     "output_type": "execute_result"
    }
   ],
   "source": [
    "s='abcde'\n",
    "t='abcdef'\n",
    "Solution.findTheDifference(s,t)"
   ]
  },
  {
   "cell_type": "code",
   "execution_count": null,
   "metadata": {},
   "outputs": [],
   "source": [
    "15=10*a+b"
   ]
  }
 ],
 "metadata": {
  "kernelspec": {
   "display_name": "IIIMaterial",
   "language": "python",
   "name": "iiimaterial"
  },
  "language_info": {
   "codemirror_mode": {
    "name": "ipython",
    "version": 3
   },
   "file_extension": ".py",
   "mimetype": "text/x-python",
   "name": "python",
   "nbconvert_exporter": "python",
   "pygments_lexer": "ipython3",
   "version": "3.6.8"
  }
 },
 "nbformat": 4,
 "nbformat_minor": 4
}
