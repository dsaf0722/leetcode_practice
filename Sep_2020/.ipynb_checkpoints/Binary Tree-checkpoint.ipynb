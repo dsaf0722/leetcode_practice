{
 "cells": [
  {
   "cell_type": "code",
   "execution_count": 7,
   "metadata": {},
   "outputs": [],
   "source": [
    "def Preorder(root):\n",
    "    ans=[]\n",
    "    if root:\n",
    "        ans.append(root.val)\n",
    "        ans+=Solution.Preorder(root.left)\n",
    "        ans+=Solution.Preorder(root.right)\n",
    "    return ans"
   ]
  }
 ],
 "metadata": {
  "kernelspec": {
   "display_name": "IIIMaterial",
   "language": "python",
   "name": "iiimaterial"
  },
  "language_info": {
   "codemirror_mode": {
    "name": "ipython",
    "version": 3
   },
   "file_extension": ".py",
   "mimetype": "text/x-python",
   "name": "python",
   "nbconvert_exporter": "python",
   "pygments_lexer": "ipython3",
   "version": "3.6.8"
  }
 },
 "nbformat": 4,
 "nbformat_minor": 4
}
