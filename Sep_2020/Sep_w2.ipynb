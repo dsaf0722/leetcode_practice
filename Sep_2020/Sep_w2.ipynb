{
 "cells": [
  {
   "cell_type": "markdown",
   "metadata": {},
   "source": [
    "### 9/7"
   ]
  },
  {
   "cell_type": "markdown",
   "metadata": {},
   "source": [
    "### 807. Max Increase to Keep City Skyline"
   ]
  },
  {
   "cell_type": "code",
   "execution_count": 1,
   "metadata": {},
   "outputs": [
    {
     "name": "stdout",
     "output_type": "stream",
     "text": [
      "Requirement already satisfied: numpy in c:\\users\\user\\appdata\\local\\programs\\python\\python36\\lib\\site-packages (1.19.0)\n"
     ]
    },
    {
     "name": "stderr",
     "output_type": "stream",
     "text": [
      "WARNING: You are using pip version 20.2.1; however, version 20.2.2 is available.\n",
      "You should consider upgrading via the 'c:\\users\\user\\appdata\\local\\programs\\python\\python36\\python.exe -m pip install --upgrade pip' command.\n"
     ]
    }
   ],
   "source": [
    "!pip3 install numpy"
   ]
  },
  {
   "cell_type": "code",
   "execution_count": 2,
   "metadata": {},
   "outputs": [],
   "source": [
    "import numpy as np\n",
    "class Solution:\n",
    "    def maxIncreaseKeepingSkyline(self, grid):\n",
    "        skyline_row=[]\n",
    "        skyline_column=np.zeros([len(grid)])\n",
    "        grid_increase=np.zeros([len(grid),len(grid)])\n",
    "        for i in grid:\n",
    "            skyline_row.append(max(i))\n",
    "            for j in range(len(grid)):\n",
    "                skyline_column[j] = i[j] if i[j] > skyline_column[j] else skyline_column[j]\n",
    "        for ans in range(len(grid)):\n",
    "            for k in range(len(grid[ans])):\n",
    "                grid_increase[ans][k]=min(skyline_row[ans],skyline_column[k])\n",
    "        sum_grid=0\n",
    "        sum_grid_increase=0\n",
    "        for sum1 in grid:\n",
    "            sum_grid+=sum(sum1)\n",
    "        for sum2 in grid_increase:\n",
    "            sum_grid_increase+=sum(sum2)\n",
    "        return int(sum_grid_increase-sum_grid)"
   ]
  },
  {
   "cell_type": "code",
   "execution_count": 3,
   "metadata": {},
   "outputs": [
    {
     "data": {
      "text/plain": [
       "3673"
      ]
     },
     "execution_count": 3,
     "metadata": {},
     "output_type": "execute_result"
    }
   ],
   "source": [
    "grid=[[13,47,91,34,20,33,39,22,80,62],[73,97,88,51,38,36,52,75,25,99],[95,43,32,26,82,74,60,69,59,55],[20,41,77,95,79,46,70,50,17,51],[51,0,93,27,46,41,58,49,8,5],[92,58,38,56,73,93,34,47,23,62],[97,66,57,72,26,46,4,90,82,74],[7,44,67,96,0,82,75,22,53,100],[95,48,46,68,41,53,69,42,13,87],[79,48,96,39,21,35,3,12,22,42]]\n",
    "Solution.maxIncreaseKeepingSkyline(grid,grid)"
   ]
  },
  {
   "cell_type": "markdown",
   "metadata": {},
   "source": [
    "### 938. Range Sum of BST"
   ]
  },
  {
   "cell_type": "code",
   "execution_count": 12,
   "metadata": {},
   "outputs": [],
   "source": [
    "# slower solution\n",
    "import re\n",
    "class Solution:\n",
    "    def rangeSumBST(self, root, L, R):\n",
    "        pattern = r'[0-9]+'\n",
    "        lst=[]\n",
    "        lst += [int(i) for i in (re.findall(pattern,str(root)))]\n",
    "        return sum(i for i in lst if i>=L and i<=R)"
   ]
  },
  {
   "cell_type": "code",
   "execution_count": 11,
   "metadata": {},
   "outputs": [
    {
     "data": {
      "text/plain": [
       "23"
      ]
     },
     "execution_count": 11,
     "metadata": {},
     "output_type": "execute_result"
    }
   ],
   "source": [
    "root=[10,5,15,3,7,13,18,1,None,6]\n",
    "L = 6\n",
    "R = 10\n",
    "Solution.rangeSumBST(root,root,L,R)"
   ]
  },
  {
   "cell_type": "markdown",
   "metadata": {},
   "source": [
    "### 1409. Queries on a Permutation With Key"
   ]
  },
  {
   "cell_type": "code",
   "execution_count": 16,
   "metadata": {},
   "outputs": [],
   "source": [
    "class Solution:\n",
    "    def processQueries(self, queries, m):\n",
    "        P = [i for i in range(1,m+1)]\n",
    "        ans=[]\n",
    "        for k in queries:\n",
    "            ans.append(P.index(k))\n",
    "            P.remove(k)\n",
    "            P.insert(0,k)\n",
    "        return ans"
   ]
  },
  {
   "cell_type": "code",
   "execution_count": 17,
   "metadata": {},
   "outputs": [
    {
     "data": {
      "text/plain": [
       "[2, 1, 2, 1]"
      ]
     },
     "execution_count": 17,
     "metadata": {},
     "output_type": "execute_result"
    }
   ],
   "source": [
    "queries=[3,1,2,1]\n",
    "m=5\n",
    "Solution.processQueries(queries,queries,m)"
   ]
  },
  {
   "cell_type": "markdown",
   "metadata": {},
   "source": [
    "### 1290. Convert Binary Number in a Linked List to Integer"
   ]
  },
  {
   "cell_type": "code",
   "execution_count": 3,
   "metadata": {},
   "outputs": [],
   "source": [
    "class Solution:\n",
    "    def getDecimalValue(self, head):\n",
    "        lst='0b'\n",
    "        while head:\n",
    "            lst+=str(head.val)\n",
    "            head=head.next\n",
    "        return int(lst,2)"
   ]
  },
  {
   "cell_type": "code",
   "execution_count": 2,
   "metadata": {},
   "outputs": [
    {
     "data": {
      "text/plain": [
       "'123'"
      ]
     },
     "execution_count": 2,
     "metadata": {},
     "output_type": "execute_result"
    }
   ],
   "source": [
    "digits=[1,2,3]\n",
    "new_digits=''\n",
    "new_digits = new_digits.join(str(i) for i in digits)\n",
    "new_digits"
   ]
  },
  {
   "cell_type": "markdown",
   "metadata": {},
   "source": [
    "### 9/8"
   ]
  },
  {
   "cell_type": "markdown",
   "metadata": {},
   "source": [
    "### Word Pattern"
   ]
  },
  {
   "cell_type": "code",
   "execution_count": 30,
   "metadata": {},
   "outputs": [],
   "source": [
    "class Solution:\n",
    "    def wordPattern(pattern, str):\n",
    "        lst=[]\n",
    "        ans=[]\n",
    "        count=0\n",
    "        for i in pattern:\n",
    "            if i not in lst:\n",
    "                lst.append(i)\n",
    "                ans.append(count)\n",
    "                count+=1\n",
    "            else:\n",
    "                lst.append(i)\n",
    "                ans.append(lst.index(i))\n",
    "        lst2=[]\n",
    "        ans2=[]\n",
    "        count2=0\n",
    "        str_lst = re.findall(r'[a-z]+',str)\n",
    "        for k in str_lst:\n",
    "            if k not in lst2:\n",
    "                lst2.append(k)\n",
    "                ans2.append(count2)\n",
    "                count2+=1\n",
    "            else:\n",
    "                lst2.append(k)\n",
    "                ans2.append(lst2.index(k))\n",
    "        return ans==ans2"
   ]
  },
  {
   "cell_type": "code",
   "execution_count": 31,
   "metadata": {},
   "outputs": [
    {
     "data": {
      "text/plain": [
       "True"
      ]
     },
     "execution_count": 31,
     "metadata": {},
     "output_type": "execute_result"
    }
   ],
   "source": [
    "pattern=\"abba\"\n",
    "str=\"dog cat cat dog\"\n",
    "Solution.wordPattern(pattern,str)"
   ]
  },
  {
   "cell_type": "markdown",
   "metadata": {},
   "source": [
    "### 1476. Subrectangle Queries"
   ]
  },
  {
   "cell_type": "code",
   "execution_count": 39,
   "metadata": {},
   "outputs": [],
   "source": [
    "class SubrectangleQueries:\n",
    "    def __init__(self, rectangle):\n",
    "        self.lst=rectangle\n",
    "    def updateSubrectangle(self, row1: int, col1: int, row2: int, col2: int, newValue: int) -> None:    \n",
    "        for i in range(row1,row2+1):\n",
    "            for j in range(col1,col2+1):\n",
    "                self.lst[i][j]=newValue\n",
    "        # print(self.lst)\n",
    "    def getValue(self, row: int, col: int) -> int:\n",
    "        return self.lst[row][col]"
   ]
  },
  {
   "cell_type": "markdown",
   "metadata": {},
   "source": [
    "### 283. Move Zeroes"
   ]
  },
  {
   "cell_type": "code",
   "execution_count": 47,
   "metadata": {},
   "outputs": [],
   "source": [
    "class Solution:\n",
    "    def moveZeroes(nums):\n",
    "        \"\"\"\n",
    "        Do not return anything, modify nums in-place instead.\n",
    "        \"\"\"\n",
    "        for i in range(nums.count(0)):\n",
    "            nums.remove(0)\n",
    "            nums.append(0)\n",
    "        return nums"
   ]
  },
  {
   "cell_type": "code",
   "execution_count": 48,
   "metadata": {},
   "outputs": [
    {
     "data": {
      "text/plain": [
       "[1, 2, 3, 0, 0]"
      ]
     },
     "execution_count": 48,
     "metadata": {},
     "output_type": "execute_result"
    }
   ],
   "source": [
    "nums=[0,1,0,2,3]\n",
    "Solution.moveZeroes(nums)"
   ]
  },
  {
   "cell_type": "markdown",
   "metadata": {},
   "source": [
    "### Single Number"
   ]
  },
  {
   "cell_type": "code",
   "execution_count": 57,
   "metadata": {},
   "outputs": [],
   "source": [
    "# Time Limti Exceeded\n",
    "class Solution:\n",
    "    def singleNumber(self, nums):\n",
    "        ans = [i for i in nums if nums.count(i)!=2][0]\n",
    "        return ans"
   ]
  },
  {
   "cell_type": "code",
   "execution_count": 58,
   "metadata": {},
   "outputs": [
    {
     "data": {
      "text/plain": [
       "3"
      ]
     },
     "execution_count": 58,
     "metadata": {},
     "output_type": "execute_result"
    }
   ],
   "source": [
    "nums=[2,2,1,1,3]\n",
    "Solution.singleNumber(nums,nums)"
   ]
  },
  {
   "cell_type": "code",
   "execution_count": 60,
   "metadata": {},
   "outputs": [],
   "source": [
    "# use Counter ==> correct answer\n",
    "from collections import Counter\n",
    "class Solution:\n",
    "    def singleNumber(self, nums):\n",
    "        key_lst=list(Counter(nums).keys())\n",
    "        value_lst2=list(Counter(nums).values())\n",
    "        return [key_lst[i] for i in range(len(key_lst)) if value_lst2[i]==1][0]"
   ]
  },
  {
   "cell_type": "code",
   "execution_count": 61,
   "metadata": {},
   "outputs": [
    {
     "data": {
      "text/plain": [
       "9"
      ]
     },
     "execution_count": 61,
     "metadata": {},
     "output_type": "execute_result"
    }
   ],
   "source": [
    "nums=[3,3,10,10,6,6,9]\n",
    "Solution.singleNumber(nums,nums)"
   ]
  },
  {
   "cell_type": "markdown",
   "metadata": {},
   "source": [
    "### 237. Delete Node in a Linked List"
   ]
  },
  {
   "cell_type": "code",
   "execution_count": 62,
   "metadata": {},
   "outputs": [],
   "source": [
    "class Solution:\n",
    "    def deleteNode(self, node):\n",
    "        \"\"\"\n",
    "        :type node: ListNode\n",
    "        :rtype: void Do not return anything, modify node in-place instead.\n",
    "        \"\"\"\n",
    "        while node:\n",
    "            if node.next != None:\n",
    "                node.val=node.next.val\n",
    "            node.next= None if node.next.next==None else node.next\n",
    "            node=node.next"
   ]
  },
  {
   "cell_type": "code",
   "execution_count": 63,
   "metadata": {},
   "outputs": [],
   "source": [
    "class Solution:\n",
    "    def deleteNode(self, node):\n",
    "        \"\"\"\n",
    "        :type node: ListNode\n",
    "        :rtype: void Do not return anything, modify node in-place instead.\n",
    "        \"\"\"\n",
    "        node.val=node.next.val\n",
    "        node.next=node.next.next"
   ]
  },
  {
   "cell_type": "markdown",
   "metadata": {},
   "source": [
    "### 206. Reverse Linked List"
   ]
  },
  {
   "cell_type": "code",
   "execution_count": 65,
   "metadata": {},
   "outputs": [],
   "source": [
    "class Solution:\n",
    "    def reverseList(self, head):\n",
    "        ans = None\n",
    "        while head:\n",
    "            cur = head\n",
    "            head = head.next\n",
    "            cur.next = ans\n",
    "            ans = cur\n",
    "        return ans"
   ]
  },
  {
   "cell_type": "markdown",
   "metadata": {},
   "source": [
    "### 46. Permutations"
   ]
  },
  {
   "cell_type": "code",
   "execution_count": 3,
   "metadata": {},
   "outputs": [],
   "source": [
    "from itertools import permutations\n",
    "class Solution:\n",
    "    def permute(self, nums):\n",
    "        new_nums = [str(i) for i in nums]\n",
    "        ans=list(permutations(new_nums,len(nums)))\n",
    "        return ans"
   ]
  },
  {
   "cell_type": "code",
   "execution_count": 4,
   "metadata": {},
   "outputs": [
    {
     "data": {
      "text/plain": [
       "[('1', '2', '3'),\n",
       " ('1', '3', '2'),\n",
       " ('2', '1', '3'),\n",
       " ('2', '3', '1'),\n",
       " ('3', '1', '2'),\n",
       " ('3', '2', '1')]"
      ]
     },
     "execution_count": 4,
     "metadata": {},
     "output_type": "execute_result"
    }
   ],
   "source": [
    "nums=[1,2,3]\n",
    "Solution.permute(nums,nums)"
   ]
  },
  {
   "cell_type": "markdown",
   "metadata": {},
   "source": [
    "### 9/9"
   ]
  },
  {
   "cell_type": "markdown",
   "metadata": {},
   "source": [
    "### 169. Majority Element"
   ]
  },
  {
   "cell_type": "code",
   "execution_count": 6,
   "metadata": {},
   "outputs": [],
   "source": [
    "### Time Limit Exceeded\n",
    "class Solution:\n",
    "    def majorityElement(self, nums):\n",
    "        new_nums=[[nums.count(i),i] for i in nums]\n",
    "        new_nums.sort(key = lambda x:x[0])\n",
    "        return new_nums[-1][1]"
   ]
  },
  {
   "cell_type": "code",
   "execution_count": 4,
   "metadata": {},
   "outputs": [
    {
     "data": {
      "text/plain": [
       "7"
      ]
     },
     "execution_count": 4,
     "metadata": {},
     "output_type": "execute_result"
    }
   ],
   "source": [
    "nums=[8,8,7,7,7]\n",
    "Solution.majorityElement(nums,nums)"
   ]
  },
  {
   "cell_type": "code",
   "execution_count": 10,
   "metadata": {},
   "outputs": [],
   "source": [
    "### Time Limit Exceeded\n",
    "class Solution:\n",
    "    def majorityElement2(self, nums):\n",
    "        return [i for i in nums if nums.count(i)>len(nums)/2][0]"
   ]
  },
  {
   "cell_type": "code",
   "execution_count": 11,
   "metadata": {},
   "outputs": [
    {
     "data": {
      "text/plain": [
       "6"
      ]
     },
     "execution_count": 11,
     "metadata": {},
     "output_type": "execute_result"
    }
   ],
   "source": [
    "nums=[8,8,7,7,7,7,6,6,6,6,6,6,6]\n",
    "Solution.majorityElement2(nums,nums)"
   ]
  },
  {
   "cell_type": "code",
   "execution_count": 13,
   "metadata": {},
   "outputs": [],
   "source": [
    "# Correct Answer\n",
    "from collections import Counter\n",
    "class Solution:\n",
    "    def majorityElement2(self, nums):\n",
    "        ans_key=list(Counter(nums).keys())\n",
    "        ans_values=list(Counter(nums).values())\n",
    "        ans = [ans_key[i] for i in range(len(ans_key)) if ans_values[i]>len(nums)/2][0]\n",
    "        return ans"
   ]
  },
  {
   "cell_type": "code",
   "execution_count": 14,
   "metadata": {},
   "outputs": [
    {
     "data": {
      "text/plain": [
       "2"
      ]
     },
     "execution_count": 14,
     "metadata": {},
     "output_type": "execute_result"
    }
   ],
   "source": [
    "nums=[1,1,2,2,2]\n",
    "Solution.majorityElement2(nums,nums)"
   ]
  },
  {
   "cell_type": "markdown",
   "metadata": {},
   "source": [
    "### 78. Subsets"
   ]
  },
  {
   "cell_type": "code",
   "execution_count": 15,
   "metadata": {},
   "outputs": [],
   "source": [
    "from itertools import combinations\n",
    "class Solution:\n",
    "    def subsets(self, nums):\n",
    "        ans=[]\n",
    "        for i in range(len(nums)+1):\n",
    "            ans+=combinations(nums,i)\n",
    "        return ans"
   ]
  },
  {
   "cell_type": "code",
   "execution_count": 16,
   "metadata": {},
   "outputs": [
    {
     "data": {
      "text/plain": [
       "[(),\n",
       " (1,),\n",
       " (2,),\n",
       " (3,),\n",
       " (4,),\n",
       " (1, 2),\n",
       " (1, 3),\n",
       " (1, 4),\n",
       " (2, 3),\n",
       " (2, 4),\n",
       " (3, 4),\n",
       " (1, 2, 3),\n",
       " (1, 2, 4),\n",
       " (1, 3, 4),\n",
       " (2, 3, 4),\n",
       " (1, 2, 3, 4)]"
      ]
     },
     "execution_count": 16,
     "metadata": {},
     "output_type": "execute_result"
    }
   ],
   "source": [
    "nums=[1,2,3,4]\n",
    "Solution.subsets(nums,nums)"
   ]
  },
  {
   "cell_type": "code",
   "execution_count": 30,
   "metadata": {},
   "outputs": [
    {
     "data": {
      "text/plain": [
       "22"
      ]
     },
     "execution_count": 30,
     "metadata": {},
     "output_type": "execute_result"
    }
   ],
   "source": [
    "sum([5,6,4,7])"
   ]
  },
  {
   "cell_type": "markdown",
   "metadata": {},
   "source": [
    "### 165. Compare Version Numbers"
   ]
  },
  {
   "cell_type": "code",
   "execution_count": 16,
   "metadata": {},
   "outputs": [],
   "source": [
    "import re\n",
    "class Solution:\n",
    "    def compareVersion(version1, version2):\n",
    "        v1=version1.replace('.',',')\n",
    "        v2=version2.replace('.',',')\n",
    "        v1_=re.findall(r'[0-9]+',v1)\n",
    "        v2_=re.findall(r'[0-9]+',v2)\n",
    "        v1_= [int(i) for i in v1_]\n",
    "        v2_= [int(i) for i in v2_]\n",
    "        while len(v1_)<len(v2_):\n",
    "            v1_ = v1_ + [0]\n",
    "        while len(v1_)>len(v2_):\n",
    "            v2_ = v2_ + [0]\n",
    "        for i in range(len(v1_)):\n",
    "            if v1_[i]>v2_[i]:\n",
    "                return 1\n",
    "            elif v1_[i]<v2_[i]:\n",
    "                return -1\n",
    "            else:\n",
    "                continue\n",
    "        return 0"
   ]
  },
  {
   "cell_type": "code",
   "execution_count": 18,
   "metadata": {},
   "outputs": [
    {
     "data": {
      "text/plain": [
       "0"
      ]
     },
     "execution_count": 18,
     "metadata": {},
     "output_type": "execute_result"
    }
   ],
   "source": [
    "v1='1.0.1.2.3'\n",
    "v2='1.0.01.002.003'\n",
    "Solution.compareVersion(v1,v2)"
   ]
  },
  {
   "cell_type": "markdown",
   "metadata": {},
   "source": [
    "### 347. Top K Frequent Elements"
   ]
  },
  {
   "cell_type": "code",
   "execution_count": 19,
   "metadata": {},
   "outputs": [],
   "source": [
    "from collections import Counter\n",
    "class Solution:\n",
    "    def topKFrequent(nums, k):\n",
    "        new_nums = Counter(nums)\n",
    "        lst=[]\n",
    "        for i in new_nums:\n",
    "            lst.append([i,new_nums[i]])\n",
    "        lst.sort(key=lambda x:x[1],reverse=True)\n",
    "        ans=[i for i,j in lst[:k]]\n",
    "        return ans"
   ]
  },
  {
   "cell_type": "code",
   "execution_count": 21,
   "metadata": {},
   "outputs": [
    {
     "data": {
      "text/plain": [
       "[10, 6, 1]"
      ]
     },
     "execution_count": 21,
     "metadata": {},
     "output_type": "execute_result"
    }
   ],
   "source": [
    "nums=[1,1,1,2,2,2,3,3,4,4,5,5,6,6,6,6,10,10,10,10,10,10,10]\n",
    "k=3\n",
    "Solution.topKFrequent(nums,k)"
   ]
  },
  {
   "cell_type": "markdown",
   "metadata": {},
   "source": [
    "### 9/10"
   ]
  },
  {
   "cell_type": "markdown",
   "metadata": {},
   "source": [
    "### 1534. Count Good Triplets"
   ]
  },
  {
   "cell_type": "code",
   "execution_count": 3,
   "metadata": {},
   "outputs": [],
   "source": [
    "class Solution:\n",
    "    def countGoodTriplets(arr, a, b, c):\n",
    "        ans=0\n",
    "        for i in range(len(arr)-2):\n",
    "            for j in range(i,len(arr)-1):\n",
    "                for k in range(j,len(arr)):\n",
    "                    if k>j>i:\n",
    "                        if abs(arr[i]-arr[j])<=a and abs(arr[j]-arr[k])<=b and abs(arr[i]-arr[k])<=c:\n",
    "                            ans+=1\n",
    "        return ans "
   ]
  },
  {
   "cell_type": "code",
   "execution_count": 5,
   "metadata": {},
   "outputs": [
    {
     "data": {
      "text/plain": [
       "29"
      ]
     },
     "execution_count": 5,
     "metadata": {},
     "output_type": "execute_result"
    }
   ],
   "source": [
    "arr=[3,2,1,6,5,1,2,6,3,9,3]\n",
    "a=7\n",
    "b=2\n",
    "c=1\n",
    "Solution.countGoodTriplets(arr,a,b,c)"
   ]
  },
  {
   "cell_type": "code",
   "execution_count": 13,
   "metadata": {},
   "outputs": [],
   "source": [
    "# efficiency solution\n",
    "from itertools import combinations\n",
    "class Solution:\n",
    "    def countGoodTriplets(arr, a, b, c):\n",
    "        ans = (1 for i,j,k in combinations(arr,3) if abs(i-j)<=a and abs(j-k)<=b and abs(i-k)<=c)\n",
    "        return sum(ans)"
   ]
  },
  {
   "cell_type": "code",
   "execution_count": 14,
   "metadata": {},
   "outputs": [
    {
     "data": {
      "text/plain": [
       "29"
      ]
     },
     "execution_count": 14,
     "metadata": {},
     "output_type": "execute_result"
    }
   ],
   "source": [
    "arr=[3,2,1,6,5,1,2,6,3,9,3]\n",
    "a=7\n",
    "b=2\n",
    "c=1\n",
    "Solution.countGoodTriplets(arr,a,b,c)"
   ]
  },
  {
   "cell_type": "markdown",
   "metadata": {},
   "source": [
    "### Bulls and Cows"
   ]
  },
  {
   "cell_type": "code",
   "execution_count": 8,
   "metadata": {},
   "outputs": [],
   "source": [
    "# slower solution\n",
    "class Solution:\n",
    "    def getHint(secret, guess):\n",
    "        secret,guess=list(secret),list(guess)\n",
    "        if secret==guess:\n",
    "            return str(len(secret))+'A'+'0B'\n",
    "        ans=[0,0]\n",
    "        counted=[]\n",
    "        for i in range(len(secret)):\n",
    "            if secret[i] in guess:\n",
    "                if secret.count(secret[i])<=guess.count(secret[i]) and secret.count(secret[i])>counted.count(secret[i]):\n",
    "                    ans[1]+=1\n",
    "                    counted.append(secret[i])\n",
    "                elif secret.count(secret[i])>guess.count(secret[i]) and guess.count(secret[i])>counted.count(secret[i]):\n",
    "                    ans[1]+=1\n",
    "                    counted.append(secret[i])\n",
    "            if secret[i]==guess[i]:\n",
    "                ans[0]+=1\n",
    "        ans[1]=ans[1]-ans[0] if ans[0]>0 else ans[1]\n",
    "        return f'{ans[0]}A{ans[1]}B'"
   ]
  },
  {
   "cell_type": "code",
   "execution_count": 18,
   "metadata": {},
   "outputs": [
    {
     "data": {
      "text/plain": [
       "'0A4B'"
      ]
     },
     "execution_count": 18,
     "metadata": {},
     "output_type": "execute_result"
    }
   ],
   "source": [
    "secret=\"1234\"\n",
    "guess=\"4321\"\n",
    "Solution.getHint(secret,guess)"
   ]
  },
  {
   "cell_type": "code",
   "execution_count": 27,
   "metadata": {},
   "outputs": [],
   "source": [
    "# faster solution\n",
    "class Solution:\n",
    "    def getHint2(secret, guess):\n",
    "        ans=[0,0]\n",
    "        secret,guess=list(secret),list(guess)\n",
    "        ans[0] += sum([1 for i in range(len(secret)) if secret[i]==guess[i]])\n",
    "        for i in secret:\n",
    "            if i in guess:\n",
    "                ans[1]+=1\n",
    "                guess.remove(i)\n",
    "        ans[1]=ans[1]-ans[0] if ans[0]>0 else ans[1]\n",
    "        return f'{ans[0]}A{ans[1]}B'"
   ]
  },
  {
   "cell_type": "code",
   "execution_count": 26,
   "metadata": {},
   "outputs": [
    {
     "data": {
      "text/plain": [
       "'1A4B'"
      ]
     },
     "execution_count": 26,
     "metadata": {},
     "output_type": "execute_result"
    }
   ],
   "source": [
    "secret=\"12345\"\n",
    "guess=\"43215\"\n",
    "Solution.getHint2(secret,guess)"
   ]
  },
  {
   "cell_type": "markdown",
   "metadata": {},
   "source": [
    "### 242. Valid Anagram"
   ]
  },
  {
   "cell_type": "code",
   "execution_count": 87,
   "metadata": {},
   "outputs": [],
   "source": [
    "# slower solution\n",
    "class Solution:\n",
    "    def isAnagram(s,t):\n",
    "        s_count = [[i,s.count(i)] for i in s]\n",
    "        t_count = [[j,t.count(j)] for j in t]\n",
    "        s_count.sort()\n",
    "        t_count.sort()\n",
    "        return s_count==t_count"
   ]
  },
  {
   "cell_type": "code",
   "execution_count": 83,
   "metadata": {},
   "outputs": [
    {
     "data": {
      "text/plain": [
       "True"
      ]
     },
     "execution_count": 83,
     "metadata": {},
     "output_type": "execute_result"
    }
   ],
   "source": [
    "s='apple'\n",
    "t='ppale'\n",
    "Solution.isAnagram(s,t)"
   ]
  },
  {
   "cell_type": "code",
   "execution_count": 86,
   "metadata": {},
   "outputs": [],
   "source": [
    "# faster solution\n",
    "from collections import Counter\n",
    "class Solution:\n",
    "    def isAnagram(s,t):\n",
    "        return Counter(s)==Counter(t)"
   ]
  },
  {
   "cell_type": "code",
   "execution_count": 85,
   "metadata": {},
   "outputs": [
    {
     "data": {
      "text/plain": [
       "True"
      ]
     },
     "execution_count": 85,
     "metadata": {},
     "output_type": "execute_result"
    }
   ],
   "source": [
    "s='applesgdf'\n",
    "t='ppalefdgs'\n",
    "Solution.isAnagram(s,t)"
   ]
  },
  {
   "cell_type": "markdown",
   "metadata": {},
   "source": [
    "### 371. Sum of Two Integers"
   ]
  },
  {
   "cell_type": "code",
   "execution_count": 88,
   "metadata": {},
   "outputs": [],
   "source": [
    "class Solution:\n",
    "    def getSum(a, b):\n",
    "        ans=[]\n",
    "        ans.append(a)\n",
    "        ans.append(b)\n",
    "        return sum(ans)"
   ]
  },
  {
   "cell_type": "code",
   "execution_count": 89,
   "metadata": {},
   "outputs": [
    {
     "data": {
      "text/plain": [
       "7"
      ]
     },
     "execution_count": 89,
     "metadata": {},
     "output_type": "execute_result"
    }
   ],
   "source": [
    "a=10\n",
    "b=-3\n",
    "Solution.getSum(a,b)"
   ]
  },
  {
   "cell_type": "markdown",
   "metadata": {},
   "source": [
    "### 9/11"
   ]
  },
  {
   "cell_type": "markdown",
   "metadata": {},
   "source": [
    "### 459. Repeated Substring Pattern"
   ]
  },
  {
   "cell_type": "code",
   "execution_count": 6,
   "metadata": {},
   "outputs": [],
   "source": [
    "# Slower solution\n",
    "class Solution:\n",
    "    def repeatedSubstringPattern(self, s: str) -> bool:\n",
    "        if s.count(s[0])==len(s) and len(s)>1:\n",
    "            return True\n",
    "        else:\n",
    "            for i in range(2,len(s)):\n",
    "                if s[:i]*s.count(s[:i])==s:\n",
    "                    return True\n",
    "            return False"
   ]
  },
  {
   "cell_type": "code",
   "execution_count": 3,
   "metadata": {},
   "outputs": [
    {
     "data": {
      "text/plain": [
       "True"
      ]
     },
     "execution_count": 3,
     "metadata": {},
     "output_type": "execute_result"
    }
   ],
   "source": [
    "s='appleapple'\n",
    "Solution.repeatedSubstringPattern(s,s)"
   ]
  },
  {
   "cell_type": "markdown",
   "metadata": {},
   "source": [
    "### 1266. Minimum Time Visiting All Points"
   ]
  },
  {
   "cell_type": "code",
   "execution_count": 9,
   "metadata": {},
   "outputs": [],
   "source": [
    "class Solution:\n",
    "    def minTimeToVisitAllPoints(points):\n",
    "        distance_lst=0\n",
    "        for i in range(len(points)-1):\n",
    "            dist=[abs(points[i][0]-points[i+1][0]),abs(points[i][1]-points[i+1][1])]\n",
    "            real_dist=max(dist)\n",
    "            distance_lst+=real_dist\n",
    "        return distance_lst"
   ]
  },
  {
   "cell_type": "code",
   "execution_count": 10,
   "metadata": {},
   "outputs": [
    {
     "data": {
      "text/plain": [
       "9"
      ]
     },
     "execution_count": 10,
     "metadata": {},
     "output_type": "execute_result"
    }
   ],
   "source": [
    "points=[[1,1],[3,4],[9,10]]\n",
    "Solution.minTimeToVisitAllPoints(points)"
   ]
  },
  {
   "cell_type": "markdown",
   "metadata": {},
   "source": [
    "### 171. Excel Sheet Column Number"
   ]
  },
  {
   "cell_type": "code",
   "execution_count": 18,
   "metadata": {},
   "outputs": [],
   "source": [
    "class Solution:\n",
    "    def titleToNumber(self, s: str) -> int:\n",
    "        string_lst=[]\n",
    "        for i in range(ord('A'),ord('Z')+1):\n",
    "            string_lst.append([i-64,chr(i)])\n",
    "        count=[]\n",
    "        for m in range(len(s)):\n",
    "            for k in string_lst:\n",
    "                if s[m] in k:\n",
    "                    count.append(k[0])\n",
    "        n=len(s)\n",
    "        ans=0\n",
    "        ans = [ans+26**(n-k-1)*count[k] for k in range(n)]\n",
    "        return sum(ans)"
   ]
  },
  {
   "cell_type": "code",
   "execution_count": 19,
   "metadata": {},
   "outputs": [
    {
     "data": {
      "text/plain": [
       "494265"
      ]
     },
     "execution_count": 19,
     "metadata": {},
     "output_type": "execute_result"
    }
   ],
   "source": [
    "s=\"ABCDE\"\n",
    "Solution.titleToNumber(s,s)"
   ]
  },
  {
   "cell_type": "markdown",
   "metadata": {},
   "source": [
    "### 48. Rotate Image"
   ]
  },
  {
   "cell_type": "code",
   "execution_count": 34,
   "metadata": {},
   "outputs": [],
   "source": [
    "import numpy as np\n",
    "class Solution:\n",
    "    def rotate(self, matrix):\n",
    "        \"\"\"\n",
    "        Do not return anything, modify matrix in-place instead.\n",
    "        \"\"\"\n",
    "        n=len(matrix)\n",
    "        matrix.extend(np.rot90(matrix,3))\n",
    "        [matrix.pop(0) for i in range(n)]\n",
    "        return matrix"
   ]
  },
  {
   "cell_type": "code",
   "execution_count": 35,
   "metadata": {},
   "outputs": [
    {
     "data": {
      "text/plain": [
       "[array([7, 4, 1]), array([8, 5, 2]), array([9, 6, 3])]"
      ]
     },
     "execution_count": 35,
     "metadata": {},
     "output_type": "execute_result"
    }
   ],
   "source": [
    "matrix=[[1,2,3],[4,5,6],[7,8,9]]\n",
    "Solution.rotate(matrix,matrix)"
   ]
  },
  {
   "cell_type": "markdown",
   "metadata": {},
   "source": [
    "### Maximum Product Subarray"
   ]
  },
  {
   "cell_type": "code",
   "execution_count": 14,
   "metadata": {},
   "outputs": [],
   "source": [
    "# Time Limit Exceeded\n",
    "class Solution:\n",
    "    def maxProduct(self, nums):\n",
    "        ans2=max(nums)\n",
    "        def factorial(n):\n",
    "            tmp=min(nums)\n",
    "            for i in range(n):\n",
    "                for j in range(i,n):\n",
    "                    if i!=j:\n",
    "                        nums[i]*= nums[j]\n",
    "                        tmp=max(tmp,nums[i])\n",
    "            return tmp\n",
    "        if len(nums)==1:\n",
    "            return nums[0]\n",
    "        ans=factorial(len(nums))\n",
    "        ans = ans2 if ans<ans2 else ans\n",
    "        return ans"
   ]
  },
  {
   "cell_type": "code",
   "execution_count": 15,
   "metadata": {},
   "outputs": [
    {
     "data": {
      "text/plain": [
       "1296"
      ]
     },
     "execution_count": 15,
     "metadata": {},
     "output_type": "execute_result"
    }
   ],
   "source": [
    "nums=[1,3,-6,-8,9]\n",
    "Solution.maxProduct(nums,nums)"
   ]
  },
  {
   "cell_type": "code",
   "execution_count": 71,
   "metadata": {},
   "outputs": [
    {
     "data": {
      "text/plain": [
       "[['5', '3', '.', '.', '7', '.', '.', '.', '.'],\n",
       " ['6', '.', '.', '1', '9', '5', '.', '.', '.'],\n",
       " ['.', '9', '8', '.', '.', '.', '.', '6', '.'],\n",
       " ['8', '.', '.', '.', '6', '.', '.', '.', '3'],\n",
       " ['4', '.', '.', '8', '.', '3', '.', '.', '1'],\n",
       " ['7', '.', '.', '.', '2', '.', '.', '.', '6'],\n",
       " ['.', '6', '.', '.', '.', '.', '2', '8', '.'],\n",
       " ['.', '.', '.', '4', '1', '9', '.', '.', '5'],\n",
       " ['.', '.', '.', '.', '8', '.', '.', '7', '9']]"
      ]
     },
     "execution_count": 71,
     "metadata": {},
     "output_type": "execute_result"
    }
   ],
   "source": [
    "board=[[\"5\",\"3\",\".\",\".\",\"7\",\".\",\".\",\".\",\".\"],[\"6\",\".\",\".\",\"1\",\"9\",\"5\",\".\",\".\",\".\"],[\".\",\"9\",\"8\",\".\",\".\",\".\",\".\",\"6\",\".\"],[\"8\",\".\",\".\",\".\",\"6\",\".\",\".\",\".\",\"3\"],[\"4\",\".\",\".\",\"8\",\".\",\"3\",\".\",\".\",\"1\"],[\"7\",\".\",\".\",\".\",\"2\",\".\",\".\",\".\",\"6\"],[\".\",\"6\",\".\",\".\",\".\",\".\",\"2\",\"8\",\".\"],[\".\",\".\",\".\",\"4\",\"1\",\"9\",\".\",\".\",\"5\"],[\".\",\".\",\".\",\".\",\"8\",\".\",\".\",\"7\",\"9\"]]\n",
    "board"
   ]
  },
  {
   "cell_type": "code",
   "execution_count": 73,
   "metadata": {},
   "outputs": [
    {
     "data": {
      "text/plain": [
       "[[0, 0, 5],\n",
       " [0, 1, 3],\n",
       " [0, 4, 7],\n",
       " [1, 0, 6],\n",
       " [1, 3, 1],\n",
       " [1, 4, 9],\n",
       " [1, 5, 5],\n",
       " [2, 1, 9],\n",
       " [2, 2, 8],\n",
       " [2, 7, 6],\n",
       " [3, 0, 8],\n",
       " [3, 4, 6],\n",
       " [3, 8, 3],\n",
       " [4, 0, 4],\n",
       " [4, 3, 8],\n",
       " [4, 5, 3],\n",
       " [4, 8, 1],\n",
       " [5, 0, 7],\n",
       " [5, 4, 2],\n",
       " [5, 8, 6],\n",
       " [6, 1, 6],\n",
       " [6, 6, 2],\n",
       " [6, 7, 8],\n",
       " [7, 3, 4],\n",
       " [7, 4, 1],\n",
       " [7, 5, 9],\n",
       " [7, 8, 5],\n",
       " [8, 4, 8],\n",
       " [8, 7, 7],\n",
       " [8, 8, 9]]"
      ]
     },
     "execution_count": 73,
     "metadata": {},
     "output_type": "execute_result"
    }
   ],
   "source": [
    "possible"
   ]
  },
  {
   "cell_type": "code",
   "execution_count": 79,
   "metadata": {},
   "outputs": [],
   "source": [
    "section=[[0,1,2],[3,4,5],[6,7,8]]\n",
    "possible=[]\n",
    "for i in range(len(board)):\n",
    "    for j in range(len(board[i])):\n",
    "        if board[i][j]!='.':\n",
    "            possible.append([i,j,int(board[i][j])])\n",
    "\n",
    "duplicate=[]\n",
    "for i,j,k in possible:\n",
    "    for sec in section:\n",
    "        if i in sec:\n",
    "            if j in sec:\n",
    "                duplicate.append([i,j,k])\n",
    "ans_lst=[]\n",
    "for ans_ in duplicate: \n",
    "    ans_lst.append(ans_[2])\n",
    "#     for a in ans_lst:\n",
    "#         if ans_lst.count(a)>1:\n"
   ]
  },
  {
   "cell_type": "code",
   "execution_count": null,
   "metadata": {},
   "outputs": [],
   "source": [
    "\n"
   ]
  }
 ],
 "metadata": {
  "kernelspec": {
   "display_name": "IIIMaterial",
   "language": "python",
   "name": "iiimaterial"
  },
  "language_info": {
   "codemirror_mode": {
    "name": "ipython",
    "version": 3
   },
   "file_extension": ".py",
   "mimetype": "text/x-python",
   "name": "python",
   "nbconvert_exporter": "python",
   "pygments_lexer": "ipython3",
   "version": "3.6.8"
  }
 },
 "nbformat": 4,
 "nbformat_minor": 4
}
