{
 "cells": [
  {
   "cell_type": "markdown",
   "metadata": {},
   "source": [
    "### 9/1"
   ]
  },
  {
   "cell_type": "markdown",
   "metadata": {},
   "source": [
    "### 344. Reverse String"
   ]
  },
  {
   "cell_type": "code",
   "execution_count": 19,
   "metadata": {},
   "outputs": [],
   "source": [
    "class Solution:\n",
    "    def reverseString(self, s):\n",
    "        \"\"\"\n",
    "        Do not return anything, modify s in-place instead.\n",
    "        \"\"\"\n",
    "        s.reverse()"
   ]
  },
  {
   "cell_type": "markdown",
   "metadata": {},
   "source": [
    "### Remove Duplicates from Sorted Array"
   ]
  },
  {
   "cell_type": "code",
   "execution_count": 17,
   "metadata": {},
   "outputs": [],
   "source": [
    "# Time Limit Exceeded\n",
    "class Solution:\n",
    "    def removeDuplicates(self, nums):\n",
    "        Duplicates=[]\n",
    "        for i in nums:\n",
    "            if nums.count(i)>1 and nums.count(i)>Duplicates.count(i)+1:\n",
    "                Duplicates.append(i)  \n",
    "        [nums.remove(k) for k in Duplicates]\n",
    "        print(nums)"
   ]
  },
  {
   "cell_type": "code",
   "execution_count": 18,
   "metadata": {},
   "outputs": [
    {
     "name": "stdout",
     "output_type": "stream",
     "text": [
      "[1, 2]\n"
     ]
    }
   ],
   "source": [
    "nums = [1,1,2]\n",
    "Solution.removeDuplicates(nums,nums)"
   ]
  },
  {
   "cell_type": "code",
   "execution_count": 3,
   "metadata": {},
   "outputs": [],
   "source": [
    "###  Too slow \n",
    "class Solution:\n",
    "    def removeDuplicates(self, nums):\n",
    "        nums2=list(nums)\n",
    "        nums.clear()\n",
    "        for i in nums2:\n",
    "            if nums2.count(i)>0 and i not in nums:\n",
    "                nums.append(i)\n",
    "        print(nums)"
   ]
  },
  {
   "cell_type": "code",
   "execution_count": 4,
   "metadata": {},
   "outputs": [
    {
     "name": "stdout",
     "output_type": "stream",
     "text": [
      "[2, 3, 4]\n"
     ]
    }
   ],
   "source": [
    "nums = [2,2,3,3,3,4]\n",
    "Solution.removeDuplicates(nums,nums)"
   ]
  },
  {
   "cell_type": "markdown",
   "metadata": {},
   "source": [
    "### 9/2"
   ]
  },
  {
   "cell_type": "markdown",
   "metadata": {},
   "source": [
    "### Largest Time for Given Digits\n",
    "##### (9/1 daily)"
   ]
  },
  {
   "cell_type": "code",
   "execution_count": 255,
   "metadata": {},
   "outputs": [],
   "source": [
    "# cannot solve [2,0,6,6] problem\n",
    "from itertools import permutations\n",
    "class Solution:\n",
    "    def largestTimeFromDigits2(self, A):\n",
    "        A_str = [str(i) for i in A]\n",
    "        all_perm = list(set(permutations(A_str,2)))\n",
    "        all_perm = [[int(i+j),i,j] for i,j in all_perm]\n",
    "        ans_h = [k for k in all_perm if k[0]<24]\n",
    "        ans_h.sort(key=lambda x:x[0],reverse=True)\n",
    "        if len(ans_h)<1:\n",
    "            return('')\n",
    "        max_ans_h = ans_h[0]\n",
    "        [A_str.remove(i) for i in max_ans_h if i in A_str]\n",
    "        A_str_lst= [int(A_str[0] + A_str[1]),int(A_str[1] + A_str[0])]\n",
    "        A_str = max(A_str_lst) if max(A_str_lst)< 60 else min(A_str_lst)\n",
    "        if A_str>59:\n",
    "            return('')\n",
    "        a='0'\n",
    "        max_ans_h[0] = a+str(max_ans_h[0]) if max_ans_h[0]<10 else max_ans_h[0]\n",
    "        A_str = a+str(A_str) if A_str<10 else A_str\n",
    "        return str(max_ans_h[0])+':'+str(A_str)"
   ]
  },
  {
   "cell_type": "code",
   "execution_count": 259,
   "metadata": {},
   "outputs": [
    {
     "data": {
      "text/plain": [
       "''"
      ]
     },
     "execution_count": 259,
     "metadata": {},
     "output_type": "execute_result"
    }
   ],
   "source": [
    "# A=[1,0,0,2]\n",
    "A=[2,0,6,6] # correct answer is '06:26'\n",
    "Solution.largestTimeFromDigits2(A,A)"
   ]
  },
  {
   "cell_type": "code",
   "execution_count": 248,
   "metadata": {},
   "outputs": [],
   "source": [
    "# correct answer\n",
    "from itertools import permutations\n",
    "class Solution:\n",
    "    def largestTimeFromDigits(self, A):\n",
    "        if A==[0,0,0,0]:\n",
    "            return \"00:00\"\n",
    "        all_perm =[]\n",
    "        A_str = [str(i) for i in A]\n",
    "        all_perm_str = list(set(permutations(A_str,4)))\n",
    "        int_all_perm=[]\n",
    "        for k in all_perm_str:\n",
    "            if int(k[0]+k[1])<24 and int(k[2]+k[3])<60:\n",
    "                int_all_perm.append([int(k[0]+k[1]),int(k[2]+k[3])])\n",
    "        int_all_perm.sort(key=lambda x:x[0],reverse=True)\n",
    "        if len(int_all_perm)<1:\n",
    "            return ''\n",
    "        new_int_perm=[]\n",
    "        for j in int_all_perm:\n",
    "            if j[0]== int_all_perm[0][0]:\n",
    "                new_int_perm.append(j)\n",
    "        new_int_perm.sort(key=lambda x:x[1],reverse=True)\n",
    "        max_int_perm = new_int_perm[0]\n",
    "        a='0'\n",
    "        ans_h = a+str(max_int_perm[0]) if max_int_perm[0]<10 else max_int_perm[0]\n",
    "        ans_m = a+str(max_int_perm[1]) if max_int_perm[1]<10 else max_int_perm[1]\n",
    "        ans_lst=[ans_h,ans_m]\n",
    "        return str(ans_lst[0])+\":\"+str(ans_lst[1])"
   ]
  },
  {
   "cell_type": "code",
   "execution_count": 249,
   "metadata": {},
   "outputs": [
    {
     "data": {
      "text/plain": [
       "'20:40'"
      ]
     },
     "execution_count": 249,
     "metadata": {},
     "output_type": "execute_result"
    }
   ],
   "source": [
    "A=[0,2,0,4]\n",
    "Solution.largestTimeFromDigits(A,A)"
   ]
  },
  {
   "cell_type": "markdown",
   "metadata": {},
   "source": [
    "### 122. Best Time to Buy and Sell Stock II"
   ]
  },
  {
   "cell_type": "code",
   "execution_count": 269,
   "metadata": {},
   "outputs": [],
   "source": [
    "# simple solution\n",
    "class Solution:\n",
    "    def maxProfit(self, prices):\n",
    "        ans=0\n",
    "        for i in range(len(prices)-1):\n",
    "            if prices[i+1]-prices[i] > 0:\n",
    "                ans+=prices[i+1]-prices[i]\n",
    "        return ans"
   ]
  },
  {
   "cell_type": "code",
   "execution_count": 265,
   "metadata": {},
   "outputs": [
    {
     "data": {
      "text/plain": [
       "8"
      ]
     },
     "execution_count": 265,
     "metadata": {},
     "output_type": "execute_result"
    }
   ],
   "source": [
    "prices=[0,5,5,6,2,1,1,3]\n",
    "Solution.maxProfit(prices,prices)"
   ]
  },
  {
   "cell_type": "code",
   "execution_count": 267,
   "metadata": {},
   "outputs": [],
   "source": [
    "# slow solution\n",
    "class Solution:\n",
    "    def maxProfit(self, prices):\n",
    "        ans= []\n",
    "        tmp = 0\n",
    "        for i in range(len(prices)-1):\n",
    "            profit = prices[i+1]-prices[i]\n",
    "            if tmp==0 :\n",
    "                if profit > 0:\n",
    "                    tmp+=profit\n",
    "            else: \n",
    "                if profit >= 0 and prices[i]-prices[i-1]>=0:\n",
    "                    tmp+=profit\n",
    "                elif profit < 0:\n",
    "                    ans.append(tmp)\n",
    "                    tmp = 0\n",
    "            if i==len(prices)-2:\n",
    "                ans.append(tmp)\n",
    "        if ans==[]:\n",
    "            ans.append(tmp)\n",
    "        if ans==[]:\n",
    "            return 0\n",
    "        return sum(ans)"
   ]
  },
  {
   "cell_type": "code",
   "execution_count": 268,
   "metadata": {},
   "outputs": [
    {
     "data": {
      "text/plain": [
       "8"
      ]
     },
     "execution_count": 268,
     "metadata": {},
     "output_type": "execute_result"
    }
   ],
   "source": [
    "prices=[0,5,5,6,2,1,1,3]\n",
    "Solution.maxProfit(prices,prices)"
   ]
  },
  {
   "cell_type": "markdown",
   "metadata": {},
   "source": [
    "### 121. Best Time to Buy and Sell Stock"
   ]
  },
  {
   "cell_type": "code",
   "execution_count": 278,
   "metadata": {},
   "outputs": [],
   "source": [
    "# Time Limit Exceeded\n",
    "class Solution:\n",
    "    def maxProfit(self, prices):    \n",
    "        ans=[]\n",
    "        for i in range(len(prices)):\n",
    "            for j in prices[i:]:\n",
    "                if ans==[] and j>prices[i]:\n",
    "                    ans.append(j-prices[i])\n",
    "                elif j>prices[i] and j>ans[0]:\n",
    "                    ans.append(j-prices[i])\n",
    "        if len(ans)<1:\n",
    "            return 0\n",
    "        return max(ans)"
   ]
  },
  {
   "cell_type": "code",
   "execution_count": 279,
   "metadata": {},
   "outputs": [
    {
     "data": {
      "text/plain": [
       "5"
      ]
     },
     "execution_count": 279,
     "metadata": {},
     "output_type": "execute_result"
    }
   ],
   "source": [
    "prices=[7,1,5,3,6,4]\n",
    "Solution.maxProfit(prices,prices)"
   ]
  },
  {
   "cell_type": "code",
   "execution_count": 275,
   "metadata": {},
   "outputs": [],
   "source": [
    "# slower solution\n",
    "class Solution:\n",
    "    def maxProfit(self, prices): \n",
    "        ans=[]\n",
    "        for i in range(len(prices)):\n",
    "            ans.append(max(prices[i:])-prices[i])\n",
    "        if len(ans)<1:\n",
    "            return 0\n",
    "        return max(ans)"
   ]
  },
  {
   "cell_type": "code",
   "execution_count": 280,
   "metadata": {},
   "outputs": [
    {
     "data": {
      "text/plain": [
       "5"
      ]
     },
     "execution_count": 280,
     "metadata": {},
     "output_type": "execute_result"
    }
   ],
   "source": [
    "prices=[7,1,5,3,6,6]\n",
    "Solution.maxProfit(prices,prices)"
   ]
  },
  {
   "cell_type": "code",
   "execution_count": 287,
   "metadata": {},
   "outputs": [],
   "source": [
    "A=[3,7,5,6]\n",
    "for i in range(len(A)):\n",
    "    for j in A[i+1:]:\n",
    "        for k in A[j+1:]:\n",
    "            print(A[i],j,k)"
   ]
  },
  {
   "cell_type": "markdown",
   "metadata": {},
   "source": [
    "### 1395. Count Number of Teams"
   ]
  },
  {
   "cell_type": "code",
   "execution_count": 288,
   "metadata": {},
   "outputs": [],
   "source": [
    "# slower solution\n",
    "class Solution:\n",
    "    def numTeams(self, rating):\n",
    "        ans = 0\n",
    "        for i in range(len(rating)):\n",
    "            for j in range(i+1,len(rating)):\n",
    "                for k in range(j+1,len(rating)):\n",
    "                    if rating[i]<rating[j]<rating[k] or rating[i]>rating[j]>rating[k]:\n",
    "                        ans+=1\n",
    "        return ans"
   ]
  },
  {
   "cell_type": "code",
   "execution_count": 290,
   "metadata": {},
   "outputs": [
    {
     "data": {
      "text/plain": [
       "4"
      ]
     },
     "execution_count": 290,
     "metadata": {},
     "output_type": "execute_result"
    }
   ],
   "source": [
    "rating=[3,7,5,6,7]\n",
    "Solution.numTeams(rating,rating)"
   ]
  },
  {
   "cell_type": "markdown",
   "metadata": {},
   "source": [
    "### Contains Duplicate III"
   ]
  },
  {
   "cell_type": "code",
   "execution_count": 2,
   "metadata": {},
   "outputs": [],
   "source": [
    "# Time Limit Exceeded\n",
    "class Solution:\n",
    "    def containsNearbyAlmostDuplicate(self, nums, k, t):\n",
    "        for i in range(len(nums)):\n",
    "            for j in range(len(nums)):\n",
    "                if i!=j:\n",
    "                    if abs(i-j)<=k and abs(nums[i]-nums[j])<=t:\n",
    "                        return True\n",
    "        return False"
   ]
  },
  {
   "cell_type": "code",
   "execution_count": 3,
   "metadata": {},
   "outputs": [
    {
     "data": {
      "text/plain": [
       "False"
      ]
     },
     "execution_count": 3,
     "metadata": {},
     "output_type": "execute_result"
    }
   ],
   "source": [
    "nums=[1,5,9,1,5,9]\n",
    "k=2\n",
    "t=3\n",
    "Solution.containsNearbyAlmostDuplicate(nums,nums,k,t)"
   ]
  },
  {
   "cell_type": "markdown",
   "metadata": {},
   "source": [
    "### 9/3"
   ]
  },
  {
   "cell_type": "markdown",
   "metadata": {},
   "source": [
    "### 189. Rotate Array"
   ]
  },
  {
   "cell_type": "code",
   "execution_count": 7,
   "metadata": {},
   "outputs": [],
   "source": [
    "class Solution:\n",
    "    def rotate(self, nums, k):\n",
    "        \"\"\"\n",
    "        Do not return anything, modify nums in-place instead.\n",
    "        \"\"\"\n",
    "        if k<= len(nums):\n",
    "            change_section = nums[-k:]\n",
    "            constane_section = nums[:-k]\n",
    "            nums.clear()\n",
    "            nums += change_section+constane_section\n",
    "        else:\n",
    "            count=0\n",
    "            while count<k:\n",
    "                nums.insert(0,nums[-1])\n",
    "                nums.pop()\n",
    "                count+=1\n",
    "        return nums"
   ]
  },
  {
   "cell_type": "code",
   "execution_count": 9,
   "metadata": {},
   "outputs": [
    {
     "data": {
      "text/plain": [
       "[5, 6, 7, 1, 2, 3, 4]"
      ]
     },
     "execution_count": 9,
     "metadata": {},
     "output_type": "execute_result"
    }
   ],
   "source": [
    "nums=[1,2,3,4,5,6,7]\n",
    "k=3\n",
    "Solution.rotate(nums,nums,k)"
   ]
  }
 ],
 "metadata": {
  "kernelspec": {
   "display_name": "Python 3",
   "language": "python",
   "name": "python3"
  },
  "language_info": {
   "codemirror_mode": {
    "name": "ipython",
    "version": 3
   },
   "file_extension": ".py",
   "mimetype": "text/x-python",
   "name": "python",
   "nbconvert_exporter": "python",
   "pygments_lexer": "ipython3",
   "version": "3.8.2"
  }
 },
 "nbformat": 4,
 "nbformat_minor": 4
}
