{
 "cells": [
  {
   "cell_type": "markdown",
   "metadata": {},
   "source": [
    "### 8/22"
   ]
  },
  {
   "cell_type": "markdown",
   "metadata": {},
   "source": [
    "### 1342. Number of Steps to Reduce a Number to Zero"
   ]
  },
  {
   "cell_type": "code",
   "execution_count": 2,
   "metadata": {},
   "outputs": [],
   "source": [
    "class Solution:\n",
    "    def numberOfSteps (self, num: int) -> int:\n",
    "        times = 0\n",
    "        while num > 0:\n",
    "            if num %2 == 0:\n",
    "                num //= 2\n",
    "            else:\n",
    "                num -= 1\n",
    "            times += 1\n",
    "        return times"
   ]
  },
  {
   "cell_type": "code",
   "execution_count": 4,
   "metadata": {},
   "outputs": [
    {
     "data": {
      "text/plain": [
       "6"
      ]
     },
     "execution_count": 4,
     "metadata": {},
     "output_type": "execute_result"
    }
   ],
   "source": [
    "num = 11\n",
    "Solution.numberOfSteps(num,num)"
   ]
  },
  {
   "cell_type": "markdown",
   "metadata": {},
   "source": [
    "### Random Point in Non-overlapping Rectangles"
   ]
  },
  {
   "cell_type": "code",
   "execution_count": null,
   "metadata": {},
   "outputs": [],
   "source": [
    "class Solution:\n",
    "\n",
    "    def __init__(self, rects: List[List[int]]):\n",
    "        \n",
    "\n",
    "    def pick(self) -> List[int]:"
   ]
  },
  {
   "cell_type": "markdown",
   "metadata": {},
   "source": [
    "### 8/23"
   ]
  },
  {
   "cell_type": "markdown",
   "metadata": {},
   "source": [
    "### 1365. How Many Numbers Are Smaller Than the Current Number"
   ]
  },
  {
   "cell_type": "code",
   "execution_count": 2,
   "metadata": {},
   "outputs": [],
   "source": [
    "class Solution:\n",
    "    def smallerNumbersThanCurrent(self, nums):\n",
    "        lst = []\n",
    "        for cur in nums:\n",
    "            ans = 0\n",
    "            for i in nums:\n",
    "                if cur > i and cur != i:\n",
    "                    ans += 1\n",
    "            lst.append(ans)\n",
    "        return lst      "
   ]
  },
  {
   "cell_type": "code",
   "execution_count": 4,
   "metadata": {},
   "outputs": [
    {
     "data": {
      "text/plain": [
       "[2, 3, 4, 1, 0]"
      ]
     },
     "execution_count": 4,
     "metadata": {},
     "output_type": "execute_result"
    }
   ],
   "source": [
    "nums=[8,9,25,6,5]\n",
    "Solution.smallerNumbersThanCurrent(nums,nums)"
   ]
  },
  {
   "cell_type": "markdown",
   "metadata": {},
   "source": [
    "### 8/24"
   ]
  },
  {
   "cell_type": "markdown",
   "metadata": {},
   "source": [
    "### 1528. Shuffle String"
   ]
  },
  {
   "cell_type": "code",
   "execution_count": 7,
   "metadata": {},
   "outputs": [],
   "source": [
    "class Solution:\n",
    "    def restoreString(self, s, indices):\n",
    "        lst = []\n",
    "        for i in range(len(s)):\n",
    "            lst.append([s[i],indices[i]])\n",
    "        lst.sort(key = lambda s: s[1])\n",
    "        ans=''\n",
    "        for j in lst:\n",
    "            ans += j[0]\n",
    "        return ans"
   ]
  },
  {
   "cell_type": "code",
   "execution_count": 9,
   "metadata": {},
   "outputs": [
    {
     "data": {
      "text/plain": [
       "'leetcode'"
      ]
     },
     "execution_count": 9,
     "metadata": {},
     "output_type": "execute_result"
    }
   ],
   "source": [
    "s = \"codeleet\"\n",
    "indices = [4,5,6,7,0,2,1,3]\n",
    "Solution.restoreString(s,s,indices)"
   ]
  },
  {
   "cell_type": "markdown",
   "metadata": {},
   "source": [
    "### Sum of Left Leaves"
   ]
  },
  {
   "cell_type": "code",
   "execution_count": null,
   "metadata": {},
   "outputs": [],
   "source": [
    "class TreeNode:\n",
    "    def __init__(self, val=0, left=None, right=None):\n",
    "        self.val = val\n",
    "        self.left = left\n",
    "        self.right = right\n",
    "class Solution:\n",
    "    def sumOfLeftLeaves(self, root: TreeNode) -> int:\n",
    "        if root == None:\n",
    "            return 0\n",
    "        if root.left == root.right == None:\n",
    "            return 0\n",
    "        ans = []\n",
    "        cur = root\n",
    "        while cur:\n",
    "            if cur.left != None:\n",
    "                cur = cur.left  \n",
    "            elif cur.left == None and cur.right != None:\n",
    "                cur = cur.right\n",
    "            elif cur.left == cur.right == None:\n",
    "                ans.append(cur.val)\n",
    "                if root.right == None:\n",
    "                    break\n",
    "                elif root.right != None and root.right.left != None:\n",
    "                    cur = root.right\n",
    "                    root = root.right\n",
    "                else:\n",
    "                    break\n",
    "            else:\n",
    "                break\n",
    "        return sum(ans)"
   ]
  },
  {
   "cell_type": "code",
   "execution_count": null,
   "metadata": {},
   "outputs": [],
   "source": [
    "class TreeNode:\n",
    "    def __init__(self, val=0, left=None, right=None):\n",
    "        self.val = val\n",
    "        self.left = left\n",
    "        self.right = right\n",
    "class Solution:\n",
    "    def sumOfLeftLeaves(self, root: TreeNode) -> int:\n",
    "        ans = []\n",
    "        root2 = root\n",
    "        tmp = 0\n",
    "        prev = root2\n",
    "        while root2:\n",
    "            if root2.left != None and root2.right != None:\n",
    "                tmp = root2 \n",
    "            if root2.left != None:\n",
    "                prev = root2\n",
    "                root2 = root2.left  \n",
    "            elif root2.left == None and root2.right != None:\n",
    "                prev = root2\n",
    "                root2 = root2.right\n",
    "            elif root2.left == root2.right == None:\n",
    "                if root2 == prev.left:\n",
    "                    ans.append(root2.val)\n",
    "                root2 = tmp.right if tmp != 0 else root.right\n",
    "                root = root2\n",
    "        return sum(ans)"
   ]
  },
  {
   "cell_type": "markdown",
   "metadata": {},
   "source": [
    "### 8/25 Minimum Cost For Tickets"
   ]
  },
  {
   "cell_type": "code",
   "execution_count": null,
   "metadata": {},
   "outputs": [],
   "source": [
    "class Solution:\n",
    "    def mincostTickets(self, days: List[int], costs: List[int]) -> int:\n",
    "        "
   ]
  },
  {
   "cell_type": "markdown",
   "metadata": {},
   "source": [
    "### 1313. Decompress Run-Length Encoded List"
   ]
  },
  {
   "cell_type": "code",
   "execution_count": 6,
   "metadata": {},
   "outputs": [],
   "source": [
    "nums=[1,2,3,4]"
   ]
  },
  {
   "cell_type": "code",
   "execution_count": 13,
   "metadata": {},
   "outputs": [],
   "source": [
    "class Solution:\n",
    "    def decompressRLElist(self, nums):\n",
    "        ans = []\n",
    "        i=0\n",
    "        while i < len(nums):\n",
    "            ans += [nums[i+1]]*nums[i]\n",
    "            i+=2\n",
    "        return ans"
   ]
  },
  {
   "cell_type": "code",
   "execution_count": 14,
   "metadata": {},
   "outputs": [
    {
     "data": {
      "text/plain": [
       "[2, 4, 4, 4]"
      ]
     },
     "execution_count": 14,
     "metadata": {},
     "output_type": "execute_result"
    }
   ],
   "source": [
    "Solution.decompressRLElist(nums,nums)"
   ]
  },
  {
   "cell_type": "code",
   "execution_count": 15,
   "metadata": {},
   "outputs": [],
   "source": [
    "class Solution:\n",
    "    def decompressRLElist2(self, nums):\n",
    "        ans = []\n",
    "        for i in range(len(nums)):\n",
    "            if i%2 == 0:\n",
    "                ans += [nums[i+1]]*nums[i]\n",
    "        return ans"
   ]
  },
  {
   "cell_type": "code",
   "execution_count": 16,
   "metadata": {},
   "outputs": [
    {
     "data": {
      "text/plain": [
       "[2, 4, 4, 4]"
      ]
     },
     "execution_count": 16,
     "metadata": {},
     "output_type": "execute_result"
    }
   ],
   "source": [
    "Solution.decompressRLElist2(nums,nums)"
   ]
  },
  {
   "cell_type": "markdown",
   "metadata": {},
   "source": [
    "### 1281. Subtract the Product and Sum of Digits of an Integer"
   ]
  },
  {
   "cell_type": "code",
   "execution_count": 1,
   "metadata": {},
   "outputs": [],
   "source": [
    "class Solution:\n",
    "    def subtractProductAndSum(self, n):\n",
    "        lst = []\n",
    "        for i in str(n):\n",
    "            lst.append(int(i))\n",
    "        ans1=1\n",
    "        for k in lst:\n",
    "            ans1*=k\n",
    "        ans2 = sum(lst)\n",
    "        return ans1-ans2    "
   ]
  },
  {
   "cell_type": "code",
   "execution_count": 2,
   "metadata": {},
   "outputs": [
    {
     "data": {
      "text/plain": [
       "15"
      ]
     },
     "execution_count": 2,
     "metadata": {},
     "output_type": "execute_result"
    }
   ],
   "source": [
    "n=234\n",
    "Solution.subtractProductAndSum(n,n)"
   ]
  },
  {
   "cell_type": "markdown",
   "metadata": {},
   "source": [
    "### 8/26"
   ]
  },
  {
   "cell_type": "markdown",
   "metadata": {},
   "source": [
    "### Fizz Buzz"
   ]
  },
  {
   "cell_type": "code",
   "execution_count": 2,
   "metadata": {},
   "outputs": [],
   "source": [
    "class Solution:\n",
    "    def fizzBuzz(self, n):\n",
    "        ans = []\n",
    "        for i in range(1,n+1):\n",
    "            if i%5 == 0 and i%3 == 0:\n",
    "                ans.append('FizzBuzz')\n",
    "            elif i%3 == 0:\n",
    "                ans.append('Fizz')\n",
    "            elif i%5 == 0:\n",
    "                ans.append('Buzz')\n",
    "            else:\n",
    "                ans.append(str(i))\n",
    "        return ans "
   ]
  },
  {
   "cell_type": "code",
   "execution_count": 3,
   "metadata": {},
   "outputs": [
    {
     "data": {
      "text/plain": [
       "['1',\n",
       " '2',\n",
       " 'Fizz',\n",
       " '4',\n",
       " 'Buzz',\n",
       " 'Fizz',\n",
       " '7',\n",
       " '8',\n",
       " 'Fizz',\n",
       " 'Buzz',\n",
       " '11',\n",
       " 'Fizz',\n",
       " '13',\n",
       " '14',\n",
       " 'FizzBuzz',\n",
       " '16',\n",
       " '17',\n",
       " 'Fizz',\n",
       " '19',\n",
       " 'Buzz']"
      ]
     },
     "execution_count": 3,
     "metadata": {},
     "output_type": "execute_result"
    }
   ],
   "source": [
    "n=20 \n",
    "Solution.fizzBuzz(n,n)"
   ]
  },
  {
   "cell_type": "markdown",
   "metadata": {},
   "source": [
    "### 1486. XOR Operation in an Array"
   ]
  },
  {
   "cell_type": "code",
   "execution_count": 4,
   "metadata": {},
   "outputs": [],
   "source": [
    "class Solution:\n",
    "    def xorOperation(self, n: int, start: int) -> int:\n",
    "        lst = []\n",
    "        for i in range(n):\n",
    "            lst.append(start+i*2)\n",
    "        ans = lst[0]\n",
    "        for k in range(1,len(lst)):\n",
    "            ans ^= lst[k]\n",
    "        return ans"
   ]
  },
  {
   "cell_type": "code",
   "execution_count": 6,
   "metadata": {},
   "outputs": [
    {
     "data": {
      "text/plain": [
       "8"
      ]
     },
     "execution_count": 6,
     "metadata": {},
     "output_type": "execute_result"
    }
   ],
   "source": [
    "n=4\n",
    "start=3\n",
    "Solution.xorOperation(n,n,start)"
   ]
  },
  {
   "cell_type": "code",
   "execution_count": 23,
   "metadata": {},
   "outputs": [],
   "source": [
    "# bin()、oct()、int()、hex() 轉進位制"
   ]
  },
  {
   "cell_type": "code",
   "execution_count": 26,
   "metadata": {},
   "outputs": [
    {
     "name": "stdout",
     "output_type": "stream",
     "text": [
      "0b0\n",
      "0b1\n",
      "0b10\n"
     ]
    }
   ],
   "source": [
    "print(bin(0)) # 0b0 == 0b00\n",
    "print(bin(1)) # 0b1 == 0b01\n",
    "print(bin(2)) # 0b10"
   ]
  },
  {
   "cell_type": "code",
   "execution_count": 28,
   "metadata": {},
   "outputs": [
    {
     "name": "stdout",
     "output_type": "stream",
     "text": [
      "0b11\n",
      "3\n"
     ]
    }
   ],
   "source": [
    "print(bin(3))\n",
    "print(0^1^2)"
   ]
  },
  {
   "cell_type": "markdown",
   "metadata": {},
   "source": [
    "### 8/27"
   ]
  },
  {
   "cell_type": "markdown",
   "metadata": {},
   "source": [
    "### 1389. Create Target Array in the Given Order"
   ]
  },
  {
   "cell_type": "code",
   "execution_count": 42,
   "metadata": {},
   "outputs": [],
   "source": [
    "class Solution:\n",
    "    def createTargetArray(self, nums, index):\n",
    "        ans = []\n",
    "        for i in range(len(index)):\n",
    "            ans.insert(index[i],nums[i])\n",
    "        return ans"
   ]
  },
  {
   "cell_type": "code",
   "execution_count": 43,
   "metadata": {},
   "outputs": [
    {
     "data": {
      "text/plain": [
       "[0, 4, 1, 3, 2]"
      ]
     },
     "execution_count": 43,
     "metadata": {},
     "output_type": "execute_result"
    }
   ],
   "source": [
    "nums=[0,1,2,3,4]\n",
    "index=[0,1,2,2,1]\n",
    "Solution.createTargetArray(nums,nums,index)"
   ]
  },
  {
   "cell_type": "code",
   "execution_count": 8,
   "metadata": {},
   "outputs": [
    {
     "data": {
      "text/plain": [
       "1"
      ]
     },
     "execution_count": 8,
     "metadata": {},
     "output_type": "execute_result"
    }
   ],
   "source": [
    "lst = [[1,2],[2,3],[5,6],[3,4]]\n",
    "lst.sort(key=lambda x:x[0])\n",
    "lst[0][0]"
   ]
  },
  {
   "cell_type": "markdown",
   "metadata": {},
   "source": [
    "### Find Right Interval"
   ]
  },
  {
   "cell_type": "code",
   "execution_count": null,
   "metadata": {},
   "outputs": [],
   "source": [
    "#Time Limit Exceeded\n",
    "class Solution:\n",
    "    def findRightInterval(self, intervals):\n",
    "        if len(intervals)<=1:\n",
    "            return [-1]\n",
    "        final = []\n",
    "        for i in range(len(intervals)):\n",
    "            possible_ans = []\n",
    "            for j in range(len(intervals)):\n",
    "                if intervals[i][1]<=intervals[j][0]:\n",
    "                    possible_ans.append([j,intervals[j][0]])\n",
    "            if len(possible_ans)==0:\n",
    "                final.append(-1)\n",
    "            else:\n",
    "                possible_ans.sort(key=lambda x:x[1])\n",
    "                Minimum_index = possible_ans[0][0]\n",
    "                final.append(Minimum_index)\n",
    "        return final"
   ]
  },
  {
   "cell_type": "code",
   "execution_count": 11,
   "metadata": {},
   "outputs": [
    {
     "data": {
      "text/plain": [
       "[1, 1, -1, 1]"
      ]
     },
     "execution_count": 11,
     "metadata": {},
     "output_type": "execute_result"
    }
   ],
   "source": [
    "intervals=[[1,2],[4,3],[5,6],[1,2]]\n",
    "Solution.findRightInterval(intervals,intervals)"
   ]
  },
  {
   "cell_type": "code",
   "execution_count": 13,
   "metadata": {},
   "outputs": [],
   "source": [
    "class Solution:\n",
    "    def findRightInterval(self, intervals):\n",
    "        if len(intervals)<=1:\n",
    "            return [-1]\n",
    "        final = []\n",
    "        for i in range(len(intervals)):\n",
    "            possible_ans = []\n",
    "            for j in range(len(intervals)):\n",
    "                if intervals[i][1]<=intervals[j][0]:\n",
    "                    if possible_ans==[]:\n",
    "                        possible_ans.append([j,intervals[j][0]])\n",
    "                    elif intervals[j][0]<possible_ans[0][1]:\n",
    "                        possible_ans=[[j,intervals[j][0]]]\n",
    "            if len(possible_ans)==0:\n",
    "                final.append(-1)\n",
    "            else:\n",
    "                final.append(possible_ans[0][0])\n",
    "        return final"
   ]
  },
  {
   "cell_type": "code",
   "execution_count": 16,
   "metadata": {},
   "outputs": [
    {
     "name": "stdout",
     "output_type": "stream",
     "text": [
      "157 µs ± 39.7 µs per loop (mean ± std. dev. of 7 runs, 10000 loops each)\n"
     ]
    }
   ],
   "source": [
    "%%timeit\n",
    "intervals=[[-1000,-93],[-999,-650],[-998,-825],[-997,-239],[-996,34],[-995,-623],[-994,-350],[-993,-15],[-992,31],[-991,-182],[-990,-450],[-989,-724],[-988,-396],[-987,-845],[-986,101],[-985,-382],[-984,-557],[-983,-154],[-982,-42],[-981,-269],[-980,-577],[-979,-710],[-978,-169],[-977,-720],[-976,-316],[-975,58],[-974,-775],[-973,-595],[-972,-56],[-971,-536],[-970,-773],[-969,-43],[-968,-356],[-967,-600],[-966,-56],[-965,-232],[-964,115]]\n",
    "final = []\n",
    "for i in range(len(intervals)):\n",
    "    possible_ans = []\n",
    "    for j in range(len(intervals)):\n",
    "        if intervals[i][1]<=intervals[j][0]:\n",
    "            possible_ans.append([j,intervals[j][0]])\n",
    "    if len(possible_ans)==0:\n",
    "        final.append(-1)\n",
    "    else:\n",
    "        possible_ans.sort(key=lambda x:x[1])\n",
    "        Minimum_index = possible_ans[0][0]\n",
    "        final.append(Minimum_index)"
   ]
  },
  {
   "cell_type": "code",
   "execution_count": 17,
   "metadata": {},
   "outputs": [
    {
     "name": "stdout",
     "output_type": "stream",
     "text": [
      "117 µs ± 3.22 µs per loop (mean ± std. dev. of 7 runs, 10000 loops each)\n"
     ]
    }
   ],
   "source": [
    "%%timeit\n",
    "intervals=[[-1000,-93],[-999,-650],[-998,-825],[-997,-239],[-996,34],[-995,-623],[-994,-350],[-993,-15],[-992,31],[-991,-182],[-990,-450],[-989,-724],[-988,-396],[-987,-845],[-986,101],[-985,-382],[-984,-557],[-983,-154],[-982,-42],[-981,-269],[-980,-577],[-979,-710],[-978,-169],[-977,-720],[-976,-316],[-975,58],[-974,-775],[-973,-595],[-972,-56],[-971,-536],[-970,-773],[-969,-43],[-968,-356],[-967,-600],[-966,-56],[-965,-232],[-964,115]]\n",
    "final = []\n",
    "for i in range(len(intervals)):\n",
    "    possible_ans = []\n",
    "    for j in range(len(intervals)):\n",
    "        if intervals[i][1]<=intervals[j][0]:\n",
    "            if possible_ans==[]:\n",
    "                possible_ans.append([j,intervals[j][0]])\n",
    "            elif intervals[j][0]<possible_ans[0][1]:\n",
    "                possible_ans=[[j,intervals[j][0]]]\n",
    "    if len(possible_ans)==0:\n",
    "        final.append(-1)\n",
    "    else:\n",
    "        final.append(possible_ans[0][0])"
   ]
  },
  {
   "cell_type": "code",
   "execution_count": 18,
   "metadata": {},
   "outputs": [
    {
     "name": "stdout",
     "output_type": "stream",
     "text": [
      "294 µs ± 87 µs per loop (mean ± std. dev. of 7 runs, 1000 loops each)\n"
     ]
    }
   ],
   "source": [
    "%%timeit\n",
    "intervals=[[-1000,-93],[-999,-650],[-998,-825],[-997,-239],[-996,34],[-995,-623],[-994,-350],[-993,-15],[-992,31],[-991,-182],[-990,-450],[-989,-724],[-988,-396],[-987,-845],[-986,101],[-985,-382],[-984,-557],[-983,-154],[-982,-42],[-981,-269],[-980,-577],[-979,-710],[-978,-169],[-977,-720],[-976,-316],[-975,58],[-974,-775],[-973,-595],[-972,-56],[-971,-536],[-970,-773],[-969,-43],[-968,-356],[-967,-600],[-966,-56],[-965,-232],[-964,115]]\n",
    "final = []\n",
    "for i in range(len(intervals)):\n",
    "    possible_ans = []\n",
    "    for j in range(len(intervals)):\n",
    "        if intervals[i][1] == intervals[j][0]:\n",
    "            possible_ans=[[j,intervals[j][0]]]\n",
    "            break\n",
    "        elif intervals[i][1]<intervals[j][0]:\n",
    "            if possible_ans==[]:\n",
    "                possible_ans.append([j,intervals[j][0]])\n",
    "            elif intervals[j][0]<possible_ans[0][1]:\n",
    "                possible_ans=[[j,intervals[j][0]]]\n",
    "    if len(possible_ans)==0:\n",
    "        final.append(-1)\n",
    "    else:\n",
    "        final.append(possible_ans[0][0])"
   ]
  }
 ],
 "metadata": {
  "kernelspec": {
   "display_name": "Python 3",
   "language": "python",
   "name": "python3"
  },
  "language_info": {
   "codemirror_mode": {
    "name": "ipython",
    "version": 3
   },
   "file_extension": ".py",
   "mimetype": "text/x-python",
   "name": "python",
   "nbconvert_exporter": "python",
   "pygments_lexer": "ipython3",
   "version": "3.8.2"
  }
 },
 "nbformat": 4,
 "nbformat_minor": 4
}
