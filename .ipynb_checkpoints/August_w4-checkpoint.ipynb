{
 "cells": [
  {
   "cell_type": "markdown",
   "metadata": {},
   "source": [
    "### 8/22"
   ]
  },
  {
   "cell_type": "markdown",
   "metadata": {},
   "source": [
    "### 1342. Number of Steps to Reduce a Number to Zero"
   ]
  },
  {
   "cell_type": "code",
   "execution_count": 2,
   "metadata": {},
   "outputs": [],
   "source": [
    "class Solution:\n",
    "    def numberOfSteps (self, num: int) -> int:\n",
    "        times = 0\n",
    "        while num > 0:\n",
    "            if num %2 == 0:\n",
    "                num //= 2\n",
    "            else:\n",
    "                num -= 1\n",
    "            times += 1\n",
    "        return times"
   ]
  },
  {
   "cell_type": "code",
   "execution_count": 4,
   "metadata": {},
   "outputs": [
    {
     "data": {
      "text/plain": [
       "6"
      ]
     },
     "execution_count": 4,
     "metadata": {},
     "output_type": "execute_result"
    }
   ],
   "source": [
    "num = 11\n",
    "Solution.numberOfSteps(num,num)"
   ]
  },
  {
   "cell_type": "markdown",
   "metadata": {},
   "source": [
    "### Random Point in Non-overlapping Rectangles"
   ]
  },
  {
   "cell_type": "code",
   "execution_count": null,
   "metadata": {},
   "outputs": [],
   "source": [
    "class Solution:\n",
    "\n",
    "    def __init__(self, rects: List[List[int]]):\n",
    "        \n",
    "\n",
    "    def pick(self) -> List[int]:"
   ]
  },
  {
   "cell_type": "markdown",
   "metadata": {},
   "source": [
    "### 8/23"
   ]
  },
  {
   "cell_type": "markdown",
   "metadata": {},
   "source": [
    "### 1365. How Many Numbers Are Smaller Than the Current Number"
   ]
  },
  {
   "cell_type": "code",
   "execution_count": 2,
   "metadata": {},
   "outputs": [],
   "source": [
    "class Solution:\n",
    "    def smallerNumbersThanCurrent(self, nums):\n",
    "        lst = []\n",
    "        for cur in nums:\n",
    "            ans = 0\n",
    "            for i in nums:\n",
    "                if cur > i and cur != i:\n",
    "                    ans += 1\n",
    "            lst.append(ans)\n",
    "        return lst      "
   ]
  },
  {
   "cell_type": "code",
   "execution_count": 4,
   "metadata": {},
   "outputs": [
    {
     "data": {
      "text/plain": [
       "[2, 3, 4, 1, 0]"
      ]
     },
     "execution_count": 4,
     "metadata": {},
     "output_type": "execute_result"
    }
   ],
   "source": [
    "nums=[8,9,25,6,5]\n",
    "Solution.smallerNumbersThanCurrent(nums,nums)"
   ]
  },
  {
   "cell_type": "markdown",
   "metadata": {},
   "source": [
    "### 8/24"
   ]
  },
  {
   "cell_type": "markdown",
   "metadata": {},
   "source": [
    "### 1528. Shuffle String"
   ]
  },
  {
   "cell_type": "code",
   "execution_count": 7,
   "metadata": {},
   "outputs": [],
   "source": [
    "class Solution:\n",
    "    def restoreString(self, s, indices):\n",
    "        lst = []\n",
    "        for i in range(len(s)):\n",
    "            lst.append([s[i],indices[i]])\n",
    "        lst.sort(key = lambda s: s[1])\n",
    "        ans=''\n",
    "        for j in lst:\n",
    "            ans += j[0]\n",
    "        return ans"
   ]
  },
  {
   "cell_type": "code",
   "execution_count": 9,
   "metadata": {},
   "outputs": [
    {
     "data": {
      "text/plain": [
       "'leetcode'"
      ]
     },
     "execution_count": 9,
     "metadata": {},
     "output_type": "execute_result"
    }
   ],
   "source": [
    "s = \"codeleet\"\n",
    "indices = [4,5,6,7,0,2,1,3]\n",
    "Solution.restoreString(s,s,indices)"
   ]
  },
  {
   "cell_type": "markdown",
   "metadata": {},
   "source": [
    "### Sum of Left Leaves"
   ]
  },
  {
   "cell_type": "code",
   "execution_count": null,
   "metadata": {},
   "outputs": [],
   "source": [
    "class TreeNode:\n",
    "    def __init__(self, val=0, left=None, right=None):\n",
    "        self.val = val\n",
    "        self.left = left\n",
    "        self.right = right\n",
    "class Solution:\n",
    "    def sumOfLeftLeaves(self, root: TreeNode) -> int:\n",
    "        if root == None:\n",
    "            return 0\n",
    "        if root.left == root.right == None:\n",
    "            return 0\n",
    "        ans = []\n",
    "        cur = root\n",
    "        while cur:\n",
    "            if cur.left != None:\n",
    "                cur = cur.left  \n",
    "            elif cur.left == None and cur.right != None:\n",
    "                cur = cur.right\n",
    "            elif cur.left == cur.right == None:\n",
    "                ans.append(cur.val)\n",
    "                if root.right == None:\n",
    "                    break\n",
    "                elif root.right != None and root.right.left != None:\n",
    "                    cur = root.right\n",
    "                    root = root.right\n",
    "                else:\n",
    "                    break\n",
    "            else:\n",
    "                break\n",
    "        return sum(ans)"
   ]
  },
  {
   "cell_type": "code",
   "execution_count": null,
   "metadata": {},
   "outputs": [],
   "source": [
    "class TreeNode:\n",
    "    def __init__(self, val=0, left=None, right=None):\n",
    "        self.val = val\n",
    "        self.left = left\n",
    "        self.right = right\n",
    "class Solution:\n",
    "    def sumOfLeftLeaves(self, root: TreeNode) -> int:\n",
    "        ans = []\n",
    "        root2 = root\n",
    "        tmp = 0\n",
    "        prev = root2\n",
    "        while root2:\n",
    "            if root2.left != None and root2.right != None:\n",
    "                tmp = root2 \n",
    "            if root2.left != None:\n",
    "                prev = root2\n",
    "                root2 = root2.left  \n",
    "            elif root2.left == None and root2.right != None:\n",
    "                prev = root2\n",
    "                root2 = root2.right\n",
    "            elif root2.left == root2.right == None:\n",
    "                if root2 == prev.left:\n",
    "                    ans.append(root2.val)\n",
    "                root2 = tmp.right if tmp != 0 else root.right\n",
    "                root = root2\n",
    "        return sum(ans)"
   ]
  },
  {
   "cell_type": "markdown",
   "metadata": {},
   "source": [
    "### 8/25 Minimum Cost For Tickets"
   ]
  },
  {
   "cell_type": "code",
   "execution_count": null,
   "metadata": {},
   "outputs": [],
   "source": [
    "class Solution:\n",
    "    def mincostTickets(self, days: List[int], costs: List[int]) -> int:\n",
    "        "
   ]
  },
  {
   "cell_type": "markdown",
   "metadata": {},
   "source": [
    "### 1313. Decompress Run-Length Encoded List"
   ]
  },
  {
   "cell_type": "code",
   "execution_count": 6,
   "metadata": {},
   "outputs": [],
   "source": [
    "nums=[1,2,3,4]"
   ]
  },
  {
   "cell_type": "code",
   "execution_count": 13,
   "metadata": {},
   "outputs": [],
   "source": [
    "class Solution:\n",
    "    def decompressRLElist(self, nums):\n",
    "        ans = []\n",
    "        i=0\n",
    "        while i < len(nums):\n",
    "            ans += [nums[i+1]]*nums[i]\n",
    "            i+=2\n",
    "        return ans"
   ]
  },
  {
   "cell_type": "code",
   "execution_count": 14,
   "metadata": {},
   "outputs": [
    {
     "data": {
      "text/plain": [
       "[2, 4, 4, 4]"
      ]
     },
     "execution_count": 14,
     "metadata": {},
     "output_type": "execute_result"
    }
   ],
   "source": [
    "Solution.decompressRLElist(nums,nums)"
   ]
  },
  {
   "cell_type": "code",
   "execution_count": 15,
   "metadata": {},
   "outputs": [],
   "source": [
    "class Solution:\n",
    "    def decompressRLElist2(self, nums):\n",
    "        ans = []\n",
    "        for i in range(len(nums)):\n",
    "            if i%2 == 0:\n",
    "                ans += [nums[i+1]]*nums[i]\n",
    "        return ans"
   ]
  },
  {
   "cell_type": "code",
   "execution_count": 16,
   "metadata": {},
   "outputs": [
    {
     "data": {
      "text/plain": [
       "[2, 4, 4, 4]"
      ]
     },
     "execution_count": 16,
     "metadata": {},
     "output_type": "execute_result"
    }
   ],
   "source": [
    "Solution.decompressRLElist2(nums,nums)"
   ]
  },
  {
   "cell_type": "markdown",
   "metadata": {},
   "source": [
    "### 1281. Subtract the Product and Sum of Digits of an Integer"
   ]
  },
  {
   "cell_type": "code",
   "execution_count": 1,
   "metadata": {},
   "outputs": [],
   "source": [
    "class Solution:\n",
    "    def subtractProductAndSum(self, n):\n",
    "        lst = []\n",
    "        for i in str(n):\n",
    "            lst.append(int(i))\n",
    "        ans1=1\n",
    "        for k in lst:\n",
    "            ans1*=k\n",
    "        ans2 = sum(lst)\n",
    "        return ans1-ans2    "
   ]
  },
  {
   "cell_type": "code",
   "execution_count": 2,
   "metadata": {},
   "outputs": [
    {
     "data": {
      "text/plain": [
       "15"
      ]
     },
     "execution_count": 2,
     "metadata": {},
     "output_type": "execute_result"
    }
   ],
   "source": [
    "n=234\n",
    "Solution.subtractProductAndSum(n,n)"
   ]
  }
 ],
 "metadata": {
  "kernelspec": {
   "display_name": "Python 3",
   "language": "python",
   "name": "python3"
  },
  "language_info": {
   "codemirror_mode": {
    "name": "ipython",
    "version": 3
   },
   "file_extension": ".py",
   "mimetype": "text/x-python",
   "name": "python",
   "nbconvert_exporter": "python",
   "pygments_lexer": "ipython3",
   "version": "3.8.2"
  }
 },
 "nbformat": 4,
 "nbformat_minor": 4
}
