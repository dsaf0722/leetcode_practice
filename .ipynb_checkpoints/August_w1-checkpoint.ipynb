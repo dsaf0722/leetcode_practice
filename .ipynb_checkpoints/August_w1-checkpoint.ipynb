{
 "cells": [
  {
   "cell_type": "markdown",
   "metadata": {},
   "source": [
    "### August_Week1 leetcode"
   ]
  },
  {
   "cell_type": "markdown",
   "metadata": {},
   "source": [
    "### 8/1 Detect Capital"
   ]
  },
  {
   "cell_type": "code",
   "execution_count": 2,
   "metadata": {},
   "outputs": [],
   "source": [
    "import re\n",
    "class Solution:\n",
    "    def detectCapitalUse(self, word: str) -> bool:\n",
    "        return re.fullmatch(r\"[A-Z]*|.[a-z]*\",word)"
   ]
  },
  {
   "cell_type": "code",
   "execution_count": 3,
   "metadata": {},
   "outputs": [
    {
     "data": {
      "text/plain": [
       "<re.Match object; span=(0, 3), match='USA'>"
      ]
     },
     "execution_count": 3,
     "metadata": {},
     "output_type": "execute_result"
    }
   ],
   "source": [
    "word = \"USA\"\n",
    "Solution.detectCapitalUse(word,word)"
   ]
  },
  {
   "cell_type": "markdown",
   "metadata": {},
   "source": [
    "### 8/2 Design HashSet"
   ]
  },
  {
   "cell_type": "code",
   "execution_count": 2,
   "metadata": {},
   "outputs": [],
   "source": [
    "class MyHashSet:\n",
    "    def __init__(self):\n",
    "        \"\"\"\n",
    "        Initialize your data structure here.\n",
    "        \"\"\"\n",
    "        self.list = []\n",
    "    def add(self, key: int) -> None:\n",
    "        if key not in self.list:\n",
    "            self.list.append(key)\n",
    "\n",
    "    def remove(self, key: int) -> None:\n",
    "        if key in self.list:\n",
    "            self.list.remove(key)\n",
    "\n",
    "    def contains(self, key: int) -> bool:\n",
    "        \"\"\"\n",
    "        Returns true if this set contains the specified element\n",
    "        \"\"\"\n",
    "        if key in self.list:\n",
    "            return True\n",
    "        else:\n",
    "            return False\n",
    "        \n",
    "# Your MyHashSet object will be instantiated and called as such:\n",
    "# obj = MyHashSet()\n",
    "# obj.add(key)\n",
    "# obj.remove(key)\n",
    "# param_3 = obj.contains(key)"
   ]
  },
  {
   "cell_type": "markdown",
   "metadata": {},
   "source": [
    "### 8/3 Valid Palindrome"
   ]
  },
  {
   "cell_type": "code",
   "execution_count": 20,
   "metadata": {},
   "outputs": [],
   "source": [
    "s = \"A man, a plan, a canal: Panama\"\n",
    "# s = \"race a car\"\n",
    "# s = \"a.\"\n",
    "# s.lower()"
   ]
  },
  {
   "cell_type": "code",
   "execution_count": 22,
   "metadata": {},
   "outputs": [],
   "source": [
    "import re\n",
    "def isPalindrome(self, s: str) -> bool:\n",
    "    pattern = r\"[a-z0-9]\"\n",
    "    s = re.findall(pattern,s.lower())\n",
    "    print(s)\n",
    "    lst = []\n",
    "    for i in range(len(s)//2):   \n",
    "        if s[i] == s[len(s)-i-1]:\n",
    "            lst.append('true')\n",
    "            continue\n",
    "    if len(lst) == len(s)//2:\n",
    "        return True\n",
    "    else:\n",
    "        return False"
   ]
  },
  {
   "cell_type": "code",
   "execution_count": 24,
   "metadata": {},
   "outputs": [
    {
     "name": "stdout",
     "output_type": "stream",
     "text": [
      "['a', 'm', 'a', 'n', 'a', 'p', 'l', 'a', 'n', 'a', 'c', 'a', 'n', 'a', 'l', 'p', 'a', 'n', 'a', 'm', 'a']\n"
     ]
    },
    {
     "data": {
      "text/plain": [
       "True"
      ]
     },
     "execution_count": 24,
     "metadata": {},
     "output_type": "execute_result"
    }
   ],
   "source": [
    "isPalindrome(\"A man, a plan, a canal: Panama\",s)"
   ]
  },
  {
   "cell_type": "markdown",
   "metadata": {},
   "source": [
    "### 8/4 Power of Four"
   ]
  },
  {
   "cell_type": "code",
   "execution_count": 27,
   "metadata": {},
   "outputs": [],
   "source": [
    "import math\n",
    "# class Solution:\n",
    "def isPowerOfFour(self, num: int) -> bool:\n",
    "    if num > 0: \n",
    "        answer = math.log(num,4)\n",
    "        if answer == round(answer):\n",
    "            print(answer)\n",
    "            return True\n",
    "        elif answer == 1:\n",
    "            return True\n",
    "        else:\n",
    "            return False\n",
    "    else:\n",
    "        return False"
   ]
  },
  {
   "cell_type": "markdown",
   "metadata": {},
   "source": [
    "### 1. Two Sum"
   ]
  },
  {
   "cell_type": "code",
   "execution_count": 31,
   "metadata": {},
   "outputs": [],
   "source": [
    "class Solution:\n",
    "    def twoSum(self, nums, target):\n",
    "        for i in range(len(nums)):\n",
    "            for j in range(i+1,len(nums)):\n",
    "                if nums[i]+nums[j] == target:\n",
    "                    return [i,j]"
   ]
  },
  {
   "cell_type": "code",
   "execution_count": 32,
   "metadata": {},
   "outputs": [
    {
     "data": {
      "text/plain": [
       "[3, 5]"
      ]
     },
     "execution_count": 32,
     "metadata": {},
     "output_type": "execute_result"
    }
   ],
   "source": [
    "nums = [1,2,3,4,5,6]\n",
    "target = 10 \n",
    "Solution.twoSum(nums,nums,target)"
   ]
  },
  {
   "cell_type": "markdown",
   "metadata": {},
   "source": [
    "\n",
    "\n",
    "### 8/5 Add and Search Word - Data structure design"
   ]
  },
  {
   "cell_type": "code",
   "execution_count": 2,
   "metadata": {},
   "outputs": [],
   "source": [
    "# time exceed\n",
    "import re\n",
    "class WordDictionary:\n",
    "\n",
    "    def __init__(self):\n",
    "        \"\"\"\n",
    "        Initialize your data structure here.\n",
    "        \"\"\"\n",
    "        self.lst = []\n",
    "    def addWord(self, word: str) -> None:\n",
    "        \"\"\"\n",
    "        Adds a word into the data structure.\n",
    "        \"\"\"\n",
    "        if word not in self.lst:\n",
    "            self.lst.append(word)\n",
    "            \n",
    "    def search(self, word: str) -> bool:\n",
    "        if word in self.lst:\n",
    "            return True\n",
    "        pattern = '^'+ word + '$'\n",
    "        x = re.findall(pattern,word)\n",
    "        if len(x) > 0:\n",
    "            for i in x:\n",
    "                for l in self.lst:\n",
    "                    if i == l:\n",
    "                        return True\n",
    "                    k_lst = []\n",
    "                    for k in list(enumerate(x[0])):\n",
    "                        k_lst.append(k)\n",
    "                    if len(k_lst) == len(l):\n",
    "                        if x[0].count('.') == len(x[0]):\n",
    "                            return True \n",
    "                        possible = 0\n",
    "                        for j in range(len(k_lst)):\n",
    "                            if k_lst[j][1]==l[j]:\n",
    "                                possible += 1\n",
    "                                break\n",
    "                        if possible > 0:\n",
    "                            TF = 0\n",
    "                            for k in list(enumerate(x[0])):\n",
    "                                if k[1] == l[k[0]]:\n",
    "                                    TF += 1\n",
    "                                elif k[1] == '.':\n",
    "                                    TF += 1\n",
    "                            if TF == len(word):\n",
    "                                return True\n",
    "            \n",
    "        return False"
   ]
  },
  {
   "cell_type": "code",
   "execution_count": 4,
   "metadata": {},
   "outputs": [],
   "source": [
    "a = ['1','2','3','4','5','6','7','8','9','10']"
   ]
  },
  {
   "cell_type": "code",
   "execution_count": 5,
   "metadata": {},
   "outputs": [
    {
     "name": "stdout",
     "output_type": "stream",
     "text": [
      "1.94 µs ± 411 ns per loop (mean ± std. dev. of 7 runs, 1000000 loops each)\n"
     ]
    }
   ],
   "source": [
    "%%timeit\n",
    "lst = []\n",
    "for i in a:\n",
    "    lst.append(i)\n",
    "# print(lst)"
   ]
  },
  {
   "cell_type": "code",
   "execution_count": 6,
   "metadata": {},
   "outputs": [
    {
     "name": "stdout",
     "output_type": "stream",
     "text": [
      "2.15 µs ± 245 ns per loop (mean ± std. dev. of 7 runs, 100000 loops each)\n"
     ]
    }
   ],
   "source": [
    "%%timeit\n",
    "lst = []\n",
    "for i in a:\n",
    "    lst += [i]\n",
    "# print(lst)"
   ]
  },
  {
   "cell_type": "code",
   "execution_count": null,
   "metadata": {},
   "outputs": [],
   "source": []
  },
  {
   "cell_type": "markdown",
   "metadata": {},
   "source": [
    "### 8/6"
   ]
  },
  {
   "cell_type": "markdown",
   "metadata": {},
   "source": [
    "### Find All Duplicates in an Array"
   ]
  },
  {
   "cell_type": "code",
   "execution_count": 2,
   "metadata": {},
   "outputs": [],
   "source": [
    "from collections import Counter\n",
    "class Solution:\n",
    "    def findDuplicates(self, nums):\n",
    "        values = list(Counter(nums).values())\n",
    "        keys = list(Counter(nums).keys())\n",
    "        lst_ = []\n",
    "        for i in range(len(Counter(nums))):\n",
    "            if values[i] > 1:\n",
    "                lst_.append(keys[i])\n",
    "        return list(set(lst_))"
   ]
  },
  {
   "cell_type": "code",
   "execution_count": 3,
   "metadata": {},
   "outputs": [
    {
     "data": {
      "text/plain": [
       "[2, 3]"
      ]
     },
     "execution_count": 3,
     "metadata": {},
     "output_type": "execute_result"
    }
   ],
   "source": [
    "nums = [4,3,2,7,8,2,3,1]\n",
    "Solution.findDuplicates(nums,nums)"
   ]
  },
  {
   "cell_type": "markdown",
   "metadata": {},
   "source": [
    "### 8/7"
   ]
  },
  {
   "cell_type": "markdown",
   "metadata": {},
   "source": [
    "### Vertical Order Traversal of a Binary Tree"
   ]
  }
 ],
 "metadata": {
  "kernelspec": {
   "display_name": "Python 3",
   "language": "python",
   "name": "python3"
  },
  "language_info": {
   "codemirror_mode": {
    "name": "ipython",
    "version": 3
   },
   "file_extension": ".py",
   "mimetype": "text/x-python",
   "name": "python",
   "nbconvert_exporter": "python",
   "pygments_lexer": "ipython3",
   "version": "3.8.2"
  }
 },
 "nbformat": 4,
 "nbformat_minor": 4
}
