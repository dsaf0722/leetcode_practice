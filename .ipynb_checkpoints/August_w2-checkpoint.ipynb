{
 "cells": [
  {
   "cell_type": "markdown",
   "metadata": {},
   "source": [
    "### August_Week2 leetcode"
   ]
  },
  {
   "cell_type": "markdown",
   "metadata": {},
   "source": [
    "### 8/8 Path Sum III\n"
   ]
  },
  {
   "cell_type": "code",
   "execution_count": null,
   "metadata": {},
   "outputs": [],
   "source": []
  },
  {
   "cell_type": "markdown",
   "metadata": {},
   "source": [
    "### 8/9 Rotting Oranges"
   ]
  },
  {
   "cell_type": "code",
   "execution_count": 27,
   "metadata": {},
   "outputs": [],
   "source": [
    "# grid = [[2,1,1],\n",
    "#         [1,1,0],\n",
    "#         [0,1,1]]\n",
    "# grid = [[2,2,1],\n",
    "#         [2,1,0],\n",
    "#         [0,1,1]]\n",
    "# grid = [[2,2,2],\n",
    "#         [2,2,0],\n",
    "#         [0,1,1]]\n",
    "# grid = [[2,2,2],\n",
    "#         [2,2,0],\n",
    "#         [0,2,1]]\n",
    "# grid = [[2,2,2],\n",
    "#         [2,2,0],\n",
    "#         [0,2,2]]"
   ]
  },
  {
   "cell_type": "code",
   "execution_count": 1,
   "metadata": {},
   "outputs": [
    {
     "name": "stdout",
     "output_type": "stream",
     "text": [
      "after: [[2, 2, 1], [0, 1, 1], [1, 0, 1]]\n",
      "times: 1\n",
      "after: [[2, 2, 2], [0, 2, 1], [1, 0, 1]]\n",
      "times: 2\n",
      "after: [[2, 2, 2], [0, 2, 2], [1, 0, 1]]\n",
      "times: 3\n",
      "after: [[2, 2, 2], [0, 2, 2], [1, 0, 2]]\n",
      "times: 4\n"
     ]
    },
    {
     "data": {
      "text/plain": [
       "-1"
      ]
     },
     "execution_count": 1,
     "metadata": {},
     "output_type": "execute_result"
    }
   ],
   "source": [
    "# grid = [[1],[2],[1],[1]]\n",
    "# grid = [[0,2]]\n",
    "# grid = [[1],[2]]\n",
    "grid = [[2,1,1],[0,1,1],[1,0,1]]\n",
    "def func(List):\n",
    "    # while times < 6:  \n",
    "    times = 0\n",
    "#     print('times:',times)\n",
    "    while True:\n",
    "        bool_lst = []\n",
    "#         print('before:',grid)\n",
    "        n_lst = []\n",
    "        new_lst = []\n",
    "        for i in grid:\n",
    "#             print(len(i))\n",
    "            i_ = list(enumerate(i))\n",
    "            for n in i_:\n",
    "                if len(i) != 1:\n",
    "                    n_lst.append([grid.index(i),n])\n",
    "                else:\n",
    "                    n_lst.append(n)\n",
    "        if len(i) == 1:\n",
    "            n_lst = list(enumerate(n_lst))\n",
    "#                 idx_ = [a for a,b in enumerate(grid) if b == i]\n",
    "#                 print(idx_)\n",
    "#                 if len(idx_) > 1:\n",
    "#                     Idx_ = [idx_[c] for c in range(len(idx_))]\n",
    "#                 else:\n",
    "#                     Idx_ = idx_\n",
    "#                 n_lst.append([Idx_,n])             \n",
    "        lst_2 = []\n",
    "        for k in n_lst:\n",
    "#             print(k)\n",
    "            if k[1][1] == 2:\n",
    "                lst_2.append([k[0],k[1][0]])\n",
    "#                 print(lst_2)\n",
    "                for x in lst_2:\n",
    "                    idx_top = [x[0]-1,x[1]] if x[0] > 0 else [x[0],x[1]]\n",
    "                    idx_down = [x[0]+1,x[1]] if x[0] < len(grid)-1 else [x[0],x[1]]\n",
    "                    idx_left = [x[0],x[1]-1] if x[1] > 0 else [x[0],x[1]]\n",
    "                    idx_right = [x[0],x[1]+1] if x[1] < len(i)-1 else [x[0],x[1]]\n",
    "#                     print(grid[idx_right[0]][idx_right[1]])\n",
    "#                     print(grid[idx_top[0]][idx_top[1]],grid[idx_down[0]][idx_down[1]],grid[idx_left[0]][idx_left[1]],grid[idx_right[0]][idx_right[1]])\n",
    "                    bool_ = True if grid[idx_top[0]][idx_top[1]] == 1 or grid[idx_down[0]][idx_down[1]] == 1 or grid[idx_left[0]][idx_left[1]] == 1 or grid[idx_right[0]][idx_right[1]] == 1 else False\n",
    "                    bool_lst.append(bool_)\n",
    "\n",
    "                    value_top = grid[idx_top[0]][idx_top[1]] + 1 if grid[idx_top[0]][idx_top[1]] == 1 else grid[idx_top[0]][idx_top[1]]\n",
    "                    value_down = grid[idx_down[0]][idx_down[1]] + 1 if grid[idx_down[0]][idx_down[1]] == 1 else grid[idx_down[0]][idx_down[1]]\n",
    "                    value_left = grid[idx_left[0]][idx_left[1]] + 1 if grid[idx_left[0]][idx_left[1]] == 1 else grid[idx_left[0]][idx_left[1]]\n",
    "                    value_right = grid[idx_right[0]][idx_right[1]] + 1 if grid[idx_right[0]][idx_right[1]] == 1 else grid[idx_right[0]][idx_right[1]]\n",
    "\n",
    "                    grid[idx_top[0]][idx_top[1]] = value_top\n",
    "                    grid[idx_down[0]][idx_down[1]] = value_down\n",
    "                    grid[idx_left[0]][idx_left[1]] = value_left\n",
    "                    grid[idx_right[0]][idx_right[1]] = value_right \n",
    "        bool_ = True if True in bool_lst else False\n",
    "        lst_1 = []\n",
    "        for a in grid:\n",
    "            for b in a:\n",
    "                lst_1.append(b)\n",
    "        bool_1 = True if 1 in lst_1 else False\n",
    "        if bool_ == True:\n",
    "            times += 1 \n",
    "            print('after:',grid)\n",
    "            print('times:',times) \n",
    "        elif bool_ == False and bool_1 == True:\n",
    "            times = -1\n",
    "            break\n",
    "        else:\n",
    "            break\n",
    "    return times\n",
    "\n",
    "func(grid)    \n",
    "    \n"
   ]
  },
  {
   "cell_type": "code",
   "execution_count": 220,
   "metadata": {},
   "outputs": [
    {
     "name": "stdout",
     "output_type": "stream",
     "text": [
      "times: 0\n",
      "before: [[2, 1], [2, 1], [2, 0], [0, 2], [1, 2]]\n",
      "T_or_F: 1\n",
      "[[(0, 2)], [(1, 1)], [(0, 2)], [(1, 1)], [(0, 2)], [(1, 0)], [(0, 0)], [(1, 2)], [(0, 1)], [(1, 2)]]\n",
      "(0, [(0, 2)])\n"
     ]
    },
    {
     "ename": "IndexError",
     "evalue": "list index out of range",
     "output_type": "error",
     "traceback": [
      "\u001b[1;31m---------------------------------------------------------------------------\u001b[0m",
      "\u001b[1;31mIndexError\u001b[0m                                Traceback (most recent call last)",
      "\u001b[1;32m<ipython-input-220-7cb1c2d94693>\u001b[0m in \u001b[0;36m<module>\u001b[1;34m\u001b[0m\n\u001b[0;32m     82\u001b[0m     \u001b[1;32mreturn\u001b[0m \u001b[0mtimes\u001b[0m\u001b[1;33m\u001b[0m\u001b[1;33m\u001b[0m\u001b[0m\n\u001b[0;32m     83\u001b[0m \u001b[1;33m\u001b[0m\u001b[0m\n\u001b[1;32m---> 84\u001b[1;33m \u001b[0mfunc\u001b[0m\u001b[1;33m(\u001b[0m\u001b[0mgrid\u001b[0m\u001b[1;33m)\u001b[0m\u001b[1;33m\u001b[0m\u001b[1;33m\u001b[0m\u001b[0m\n\u001b[0m\u001b[0;32m     85\u001b[0m \u001b[1;33m\u001b[0m\u001b[0m\n",
      "\u001b[1;32m<ipython-input-220-7cb1c2d94693>\u001b[0m in \u001b[0;36mfunc\u001b[1;34m(List)\u001b[0m\n\u001b[0;32m     40\u001b[0m         \u001b[1;32mfor\u001b[0m \u001b[0mk\u001b[0m \u001b[1;32min\u001b[0m \u001b[0mn_lst\u001b[0m\u001b[1;33m:\u001b[0m\u001b[1;33m\u001b[0m\u001b[1;33m\u001b[0m\u001b[0m\n\u001b[0;32m     41\u001b[0m             \u001b[0mprint\u001b[0m\u001b[1;33m(\u001b[0m\u001b[0mk\u001b[0m\u001b[1;33m)\u001b[0m\u001b[1;33m\u001b[0m\u001b[1;33m\u001b[0m\u001b[0m\n\u001b[1;32m---> 42\u001b[1;33m             \u001b[1;32mif\u001b[0m \u001b[0mk\u001b[0m\u001b[1;33m[\u001b[0m\u001b[1;36m1\u001b[0m\u001b[1;33m]\u001b[0m\u001b[1;33m[\u001b[0m\u001b[1;36m1\u001b[0m\u001b[1;33m]\u001b[0m \u001b[1;33m==\u001b[0m \u001b[1;36m2\u001b[0m\u001b[1;33m:\u001b[0m\u001b[1;33m\u001b[0m\u001b[1;33m\u001b[0m\u001b[0m\n\u001b[0m\u001b[0;32m     43\u001b[0m                 \u001b[0mlst_2\u001b[0m\u001b[1;33m.\u001b[0m\u001b[0mappend\u001b[0m\u001b[1;33m(\u001b[0m\u001b[1;33m[\u001b[0m\u001b[0mk\u001b[0m\u001b[1;33m[\u001b[0m\u001b[1;36m0\u001b[0m\u001b[1;33m]\u001b[0m\u001b[1;33m,\u001b[0m\u001b[0mk\u001b[0m\u001b[1;33m[\u001b[0m\u001b[1;36m1\u001b[0m\u001b[1;33m]\u001b[0m\u001b[1;33m[\u001b[0m\u001b[1;36m0\u001b[0m\u001b[1;33m]\u001b[0m\u001b[1;33m]\u001b[0m\u001b[1;33m)\u001b[0m\u001b[1;33m\u001b[0m\u001b[1;33m\u001b[0m\u001b[0m\n\u001b[0;32m     44\u001b[0m \u001b[1;31m#                 print(lst_2)\u001b[0m\u001b[1;33m\u001b[0m\u001b[1;33m\u001b[0m\u001b[1;33m\u001b[0m\u001b[0m\n",
      "\u001b[1;31mIndexError\u001b[0m: list index out of range"
     ]
    }
   ],
   "source": [
    "grid = [[2,1],[2,1],[2,0],[0,2],[1,2]]\n",
    "# grid = [[1],[2],[1],[1]]\n",
    "# grid = [[0,2]]\n",
    "# grid = [[1],[2]]\n",
    "# grid = [[2,1,1],[0,1,1],[1,0,1]]\n",
    "def func(List):\n",
    "    # while times < 6:  \n",
    "    times = 0\n",
    "    print('times:',times)\n",
    "    while True:\n",
    "        bool_lst = []\n",
    "        print('before:',grid)\n",
    "        n_lst = []\n",
    "        new_lst = []\n",
    "        i_lst = []\n",
    "        T_or_F = []\n",
    "        for i in grid:\n",
    "            i_lst.append(i)\n",
    "            for x in range(len(i_lst)):\n",
    "                for y in range(x+1,len(i_lst)):\n",
    "                    if i_lst[x] == i_lst[y]:\n",
    "                        T_or_F.append(1) \n",
    "                        break\n",
    "        T_or_F = 1 if len(T_or_F) > 0 else 0\n",
    "        print('T_or_F:',T_or_F)\n",
    "        for i in grid:\n",
    "            i_ = list(enumerate(i))\n",
    "            i_lst.append(i)\n",
    "            for n in i_:\n",
    "#                 print(n)\n",
    "                if T_or_F == 0:\n",
    "                    n_lst.append([grid.index(i),n])\n",
    "                else:\n",
    "                    n_lst.append([n])\n",
    "        print(n_lst)\n",
    "        if T_or_F == 1:\n",
    "            n_lst = list(enumerate(n_lst))\n",
    "        lst_2 = []\n",
    "#         print('n_lst',n_lst)\n",
    "        for k in n_lst:\n",
    "            print(k)\n",
    "            if k[1][1] == 2:\n",
    "                lst_2.append([k[0],k[1][0]])\n",
    "#                 print(lst_2)\n",
    "                for x in lst_2:\n",
    "#                     print(x)\n",
    "                    idx_top = [x[0]-1,x[1]] if x[0] > 0 else [x[0],x[1]]\n",
    "                    idx_down = [x[0]+1,x[1]] if x[0] < len(grid)-1 else [x[0],x[1]]\n",
    "                    idx_left = [x[0],x[1]-1] if x[1] > 0 else [x[0],x[1]]\n",
    "                    idx_right = [x[0],x[1]+1] if x[1] < len(i)-1 else [x[0],x[1]]\n",
    "#                     print(grid[idx_right[0]][idx_right[1]])\n",
    "#                     print(grid[idx_top[0]][idx_top[1]],grid[idx_down[0]][idx_down[1]],grid[idx_left[0]][idx_left[1]],grid[idx_right[0]][idx_right[1]])\n",
    "                    bool_ = True if grid[idx_top[0]][idx_top[1]] == 1 or grid[idx_down[0]][idx_down[1]] == 1 or grid[idx_left[0]][idx_left[1]] == 1 or grid[idx_right[0]][idx_right[1]] == 1 else False\n",
    "                    bool_lst.append(bool_)\n",
    "\n",
    "                    value_top = grid[idx_top[0]][idx_top[1]] + 1 if grid[idx_top[0]][idx_top[1]] == 1 else grid[idx_top[0]][idx_top[1]]\n",
    "                    value_down = grid[idx_down[0]][idx_down[1]] + 1 if grid[idx_down[0]][idx_down[1]] == 1 else grid[idx_down[0]][idx_down[1]]\n",
    "                    value_left = grid[idx_left[0]][idx_left[1]] + 1 if grid[idx_left[0]][idx_left[1]] == 1 else grid[idx_left[0]][idx_left[1]]\n",
    "                    value_right = grid[idx_right[0]][idx_right[1]] + 1 if grid[idx_right[0]][idx_right[1]] == 1 else grid[idx_right[0]][idx_right[1]]\n",
    "\n",
    "                    grid[idx_top[0]][idx_top[1]] = value_top\n",
    "                    grid[idx_down[0]][idx_down[1]] = value_down\n",
    "                    grid[idx_left[0]][idx_left[1]] = value_left\n",
    "                    grid[idx_right[0]][idx_right[1]] = value_right \n",
    "        bool_ = True if True in bool_lst else False\n",
    "        print(bool_)\n",
    "        lst_1 = []\n",
    "        for a in grid:\n",
    "            for b in a:\n",
    "                lst_1.append(b)\n",
    "        bool_1 = True if 1 in lst_1 else False\n",
    "        print('bool_1:',bool_1)\n",
    "        if bool_ == True:\n",
    "            times += 1 \n",
    "            print('after:',grid)\n",
    "            print('times:',times) \n",
    "        elif bool_ == False and bool_1 == True:\n",
    "            times = -1\n",
    "            break\n",
    "        else:\n",
    "            break\n",
    "    return times\n",
    "\n",
    "func(grid)    \n",
    "    \n"
   ]
  },
  {
   "cell_type": "code",
   "execution_count": 232,
   "metadata": {},
   "outputs": [
    {
     "name": "stdout",
     "output_type": "stream",
     "text": [
      "[(0, [1]), (1, [2]), (2, [1]), (3, [1])]\n",
      "0\n",
      "1\n",
      "2\n",
      "3\n"
     ]
    }
   ],
   "source": [
    "lst = [[1],[2],[1],[1]]\n",
    "lst = list(enumerate(lst))\n",
    "print(lst)\n",
    "for i in lst:\n",
    "    print(lst.index(i))"
   ]
  },
  {
   "cell_type": "markdown",
   "metadata": {},
   "source": [
    "### 8/10 Excel Sheet Column Number"
   ]
  },
  {
   "cell_type": "code",
   "execution_count": 446,
   "metadata": {},
   "outputs": [
    {
     "name": "stdout",
     "output_type": "stream",
     "text": [
      "A\n",
      "0\n",
      "1\n",
      "B\n",
      "0\n",
      "1\n"
     ]
    },
    {
     "ename": "ValueError",
     "evalue": "substring not found",
     "output_type": "error",
     "traceback": [
      "\u001b[1;31m---------------------------------------------------------------------------\u001b[0m",
      "\u001b[1;31mValueError\u001b[0m                                Traceback (most recent call last)",
      "\u001b[1;32m<ipython-input-446-b5f501c340cc>\u001b[0m in \u001b[0;36m<module>\u001b[1;34m\u001b[0m\n\u001b[0;32m     22\u001b[0m             \u001b[0mx\u001b[0m \u001b[1;33m=\u001b[0m \u001b[0ms\u001b[0m\u001b[1;33m[\u001b[0m\u001b[1;33m-\u001b[0m\u001b[1;33m(\u001b[0m\u001b[0mpow\u001b[0m\u001b[1;33m+\u001b[0m\u001b[1;36m1\u001b[0m\u001b[1;33m)\u001b[0m\u001b[1;33m]\u001b[0m\u001b[1;33m\u001b[0m\u001b[1;33m\u001b[0m\u001b[0m\n\u001b[0;32m     23\u001b[0m     \u001b[1;31m#         print(lst[b.index(x)][1])\u001b[0m\u001b[1;33m\u001b[0m\u001b[1;33m\u001b[0m\u001b[1;33m\u001b[0m\u001b[0m\n\u001b[1;32m---> 24\u001b[1;33m         \u001b[0moutput\u001b[0m \u001b[1;33m+=\u001b[0m \u001b[0mlst\u001b[0m\u001b[1;33m[\u001b[0m\u001b[0mb\u001b[0m\u001b[1;33m.\u001b[0m\u001b[0mindex\u001b[0m\u001b[1;33m(\u001b[0m\u001b[0mx\u001b[0m\u001b[1;33m)\u001b[0m\u001b[1;33m]\u001b[0m\u001b[1;33m[\u001b[0m\u001b[1;36m1\u001b[0m\u001b[1;33m]\u001b[0m \u001b[1;33m*\u001b[0m \u001b[1;36m26\u001b[0m \u001b[1;33m**\u001b[0m \u001b[0mpow\u001b[0m\u001b[1;33m\u001b[0m\u001b[1;33m\u001b[0m\u001b[0m\n\u001b[0m\u001b[0;32m     25\u001b[0m \u001b[1;31m#     print(output)\u001b[0m\u001b[1;33m\u001b[0m\u001b[1;33m\u001b[0m\u001b[1;33m\u001b[0m\u001b[0m\n\u001b[0;32m     26\u001b[0m \u001b[1;31m#     output = int(26**(n-7))* w_lst[-7][1] + int(26**(n-6))* w_lst[-6][1] + int(26**(n-5))* w_lst[-5][1] + int(26**(n-4))* w_lst[-4][1] + int(26**(n-3))* w_lst[-3][1] + int(26**(n-2))* w_lst[-2][1] + int(26**(n-1)) * w_lst[0][1] + w_lst[-1][1] - 1\u001b[0m\u001b[1;33m\u001b[0m\u001b[1;33m\u001b[0m\u001b[1;33m\u001b[0m\u001b[0m\n",
      "\u001b[1;31mValueError\u001b[0m: substring not found"
     ]
    }
   ],
   "source": [
    "s = 'AB'\n",
    "lst = []\n",
    "\n",
    "for x in range(ord('A'),ord('Z')+1):\n",
    "    lst.append([chr(x),x-64])\n",
    "# if len(s) == 1:\n",
    "#     for a in lst:\n",
    "#         if s in a:\n",
    "#             print(a[1])\n",
    "\n",
    "if len(s) > 1:\n",
    "    n = len(s)\n",
    "    w_lst = []\n",
    "    output = 0\n",
    "    for b in s:\n",
    "        print(b)\n",
    "#         for a in lst:\n",
    "#             if b in a:\n",
    "#                 w_lst.append([b,a[1]])\n",
    "        for pow in range(len(s)):\n",
    "            print(pow)\n",
    "            x = s[-(pow+1)]\n",
    "    #         print(lst[b.index(x)][1])\n",
    "        output += lst[b.index(x)][1] * 26 ** pow\n",
    "#     print(output)\n",
    "#     output = int(26**(n-7))* w_lst[-7][1] + int(26**(n-6))* w_lst[-6][1] + int(26**(n-5))* w_lst[-5][1] + int(26**(n-4))* w_lst[-4][1] + int(26**(n-3))* w_lst[-3][1] + int(26**(n-2))* w_lst[-2][1] + int(26**(n-1)) * w_lst[0][1] + w_lst[-1][1] - 1\n",
    "#     print(w_lst)\n",
    "#     print(output)\n",
    "#             output = 26*\n"
   ]
  },
  {
   "cell_type": "code",
   "execution_count": 412,
   "metadata": {},
   "outputs": [
    {
     "data": {
      "text/plain": [
       "'ABCDEFGHIJKLMNOPQRSTUVWXYZ'"
      ]
     },
     "execution_count": 412,
     "metadata": {},
     "output_type": "execute_result"
    }
   ],
   "source": [
    "string.ascii_lowercase.upper()"
   ]
  },
  {
   "cell_type": "code",
   "execution_count": 372,
   "metadata": {},
   "outputs": [
    {
     "data": {
      "text/plain": [
       "[['A', 1],\n",
       " ['B', 2],\n",
       " ['C', 3],\n",
       " ['D', 4],\n",
       " ['E', 5],\n",
       " ['F', 6],\n",
       " ['G', 7],\n",
       " ['H', 8],\n",
       " ['I', 9],\n",
       " ['J', 10],\n",
       " ['K', 11],\n",
       " ['L', 12],\n",
       " ['M', 13],\n",
       " ['N', 14],\n",
       " ['O', 15],\n",
       " ['P', 16],\n",
       " ['Q', 17],\n",
       " ['R', 18],\n",
       " ['S', 19],\n",
       " ['T', 20],\n",
       " ['U', 21],\n",
       " ['V', 22],\n",
       " ['W', 23],\n",
       " ['X', 24],\n",
       " ['Y', 25],\n",
       " ['Z', 26]]"
      ]
     },
     "execution_count": 372,
     "metadata": {},
     "output_type": "execute_result"
    }
   ],
   "source": [
    "lst"
   ]
  },
  {
   "cell_type": "markdown",
   "metadata": {},
   "source": [
    "### 8/11 H-Index"
   ]
  },
  {
   "cell_type": "code",
   "execution_count": 10,
   "metadata": {},
   "outputs": [],
   "source": [
    "# slower solution\n",
    "class Solution:\n",
    "    def hIndex(self, citations):\n",
    "        ans = []\n",
    "        if len(citations)== 0:\n",
    "            return 0\n",
    "        elif len(citations)== 1 and citations[0] != 0:\n",
    "            return 1\n",
    "        else:\n",
    "            for i in citations:\n",
    "                count = 0\n",
    "                for j in citations:\n",
    "                    if j>=i:\n",
    "                        count+=1\n",
    "                ans.append(min(count,i))\n",
    "        return max(ans)"
   ]
  },
  {
   "cell_type": "code",
   "execution_count": 11,
   "metadata": {},
   "outputs": [
    {
     "data": {
      "text/plain": [
       "3"
      ]
     },
     "execution_count": 11,
     "metadata": {},
     "output_type": "execute_result"
    }
   ],
   "source": [
    "c=[1,2,5,6,9]\n",
    "Solution.hIndex(c,c)"
   ]
  },
  {
   "cell_type": "code",
   "execution_count": 15,
   "metadata": {},
   "outputs": [],
   "source": [
    "# faster solution\n",
    "class Solution:\n",
    "    def hIndex(self, citations):\n",
    "        if len(citations)== 0:\n",
    "            return 0\n",
    "        elif len(citations)== 1 and citations[0] != 0:\n",
    "            return 1\n",
    "        else:\n",
    "            citations.sort(reverse = False)\n",
    "            for i in range(len(citations)):\n",
    "                if citations[i]>=len(citations)-i:\n",
    "                    return len(citations)-i\n",
    "            else:\n",
    "                return 0"
   ]
  },
  {
   "cell_type": "code",
   "execution_count": 14,
   "metadata": {},
   "outputs": [
    {
     "data": {
      "text/plain": [
       "4"
      ]
     },
     "execution_count": 14,
     "metadata": {},
     "output_type": "execute_result"
    }
   ],
   "source": [
    "c=[6,5,8,3,9]\n",
    "Solution.hIndex(c,c)"
   ]
  },
  {
   "cell_type": "markdown",
   "metadata": {},
   "source": [
    "### 8/12 Pascal's Triangle II"
   ]
  },
  {
   "cell_type": "code",
   "execution_count": 7,
   "metadata": {},
   "outputs": [],
   "source": [
    "# correct answer\n",
    "class Solution:\n",
    "    def getRow(self, rowIndex):\n",
    "        L = [1]\n",
    "        S = []\n",
    "        times = 0\n",
    "        while times < rowIndex:\n",
    "            L = [1] + S + [1]\n",
    "            S = []\n",
    "            for i in range(len(L)-1):\n",
    "                S.append(L[i] + L[i+1])\n",
    "            times += 1 \n",
    "        return L"
   ]
  },
  {
   "cell_type": "code",
   "execution_count": 9,
   "metadata": {},
   "outputs": [
    {
     "data": {
      "text/plain": [
       "[1, 5, 10, 10, 5, 1]"
      ]
     },
     "execution_count": 9,
     "metadata": {},
     "output_type": "execute_result"
    }
   ],
   "source": [
    "rowIndex = 5\n",
    "Solution.getRow(rowIndex,rowIndex)"
   ]
  },
  {
   "cell_type": "code",
   "execution_count": null,
   "metadata": {},
   "outputs": [],
   "source": [
    "[1]\n",
    "[1,1] = [0,1]+[1]\n",
    "[1,2,1] = [1,1]+[0,1,1]\n",
    "[1,3,3,1] = [1,2,1]+[0,1,2,1]\n",
    "[1,4,6,4,1] =[1,3,3,1]+[0,1,3,3,1]"
   ]
  },
  {
   "cell_type": "code",
   "execution_count": 4,
   "metadata": {},
   "outputs": [],
   "source": [
    "def triangles():\n",
    "    L = [1]\n",
    "    S = []\n",
    "    while True:\n",
    "        yield L \n",
    "        L = [1] + S + [1]\n",
    "        S = []\n",
    "        for i in range(len(L)-1):\n",
    "            S.append(L[i] + L[i+1])"
   ]
  },
  {
   "cell_type": "code",
   "execution_count": 52,
   "metadata": {},
   "outputs": [
    {
     "name": "stdout",
     "output_type": "stream",
     "text": [
      "[(0, 1), (1, 1)]\n",
      "[(0, (0, 1)), (1, (1, 1))]\n"
     ]
    },
    {
     "ename": "IndexError",
     "evalue": "list index out of range",
     "output_type": "error",
     "traceback": [
      "\u001b[1;31m---------------------------------------------------------------------------\u001b[0m",
      "\u001b[1;31mIndexError\u001b[0m                                Traceback (most recent call last)",
      "\u001b[1;32m<ipython-input-52-3e1ff1c5ddb4>\u001b[0m in \u001b[0;36m<module>\u001b[1;34m\u001b[0m\n\u001b[0;32m      4\u001b[0m     \u001b[0mlst\u001b[0m \u001b[1;33m=\u001b[0m \u001b[0mlist\u001b[0m\u001b[1;33m(\u001b[0m\u001b[0menumerate\u001b[0m\u001b[1;33m(\u001b[0m\u001b[0mlst\u001b[0m\u001b[1;33m)\u001b[0m\u001b[1;33m)\u001b[0m\u001b[1;33m\u001b[0m\u001b[1;33m\u001b[0m\u001b[0m\n\u001b[0;32m      5\u001b[0m     \u001b[0mprint\u001b[0m\u001b[1;33m(\u001b[0m\u001b[0mlst\u001b[0m\u001b[1;33m)\u001b[0m\u001b[1;33m\u001b[0m\u001b[1;33m\u001b[0m\u001b[0m\n\u001b[1;32m----> 6\u001b[1;33m     \u001b[0mdict\u001b[0m\u001b[1;33m[\u001b[0m\u001b[1;34m'key'\u001b[0m\u001b[1;33m]\u001b[0m \u001b[1;33m=\u001b[0m \u001b[0mlst\u001b[0m\u001b[1;33m[\u001b[0m\u001b[0mk\u001b[0m\u001b[1;33m]\u001b[0m\u001b[1;33m[\u001b[0m\u001b[1;36m0\u001b[0m\u001b[1;33m]\u001b[0m\u001b[1;33m\u001b[0m\u001b[1;33m\u001b[0m\u001b[0m\n\u001b[0m\u001b[0;32m      7\u001b[0m     \u001b[0mdict\u001b[0m\u001b[1;33m[\u001b[0m\u001b[1;34m'value'\u001b[0m\u001b[1;33m]\u001b[0m \u001b[1;33m=\u001b[0m \u001b[0mlst\u001b[0m\u001b[1;33m[\u001b[0m\u001b[0mk\u001b[0m\u001b[1;33m]\u001b[0m\u001b[1;33m[\u001b[0m\u001b[1;36m1\u001b[0m\u001b[1;33m]\u001b[0m\u001b[1;33m\u001b[0m\u001b[1;33m\u001b[0m\u001b[0m\n\u001b[0;32m      8\u001b[0m \u001b[1;33m\u001b[0m\u001b[0m\n",
      "\u001b[1;31mIndexError\u001b[0m: list index out of range"
     ]
    }
   ],
   "source": [
    "lst=[1,1]\n",
    "dict={'key':0,'value':0}\n",
    "for k in range(1,33):\n",
    "    lst = list(enumerate(lst))\n",
    "    print(lst)\n",
    "    dict['key'] = lst[k][0]\n",
    "    dict['value'] = lst[k][1]"
   ]
  },
  {
   "cell_type": "markdown",
   "metadata": {},
   "source": [
    "### 8/13 Iterator for Combination"
   ]
  },
  {
   "cell_type": "code",
   "execution_count": 17,
   "metadata": {},
   "outputs": [
    {
     "ename": "AttributeError",
     "evalue": "'tuple' object has no attribute 'lst'",
     "output_type": "error",
     "traceback": [
      "\u001b[1;31m---------------------------------------------------------------------------\u001b[0m",
      "\u001b[1;31mAttributeError\u001b[0m                            Traceback (most recent call last)",
      "\u001b[1;32m<ipython-input-17-71304d27888c>\u001b[0m in \u001b[0;36m<module>\u001b[1;34m\u001b[0m\n\u001b[0;32m     11\u001b[0m     \u001b[0mnext_\u001b[0m \u001b[1;33m=\u001b[0m \u001b[0mroot\u001b[0m\u001b[1;33m+\u001b[0m\u001b[1;36m1\u001b[0m\u001b[1;33m\u001b[0m\u001b[1;33m\u001b[0m\u001b[0m\n\u001b[0;32m     12\u001b[0m     \u001b[1;32mreturn\u001b[0m \u001b[1;33m(\u001b[0m\u001b[0mans\u001b[0m\u001b[1;33m)\u001b[0m\u001b[1;33m\u001b[0m\u001b[1;33m\u001b[0m\u001b[0m\n\u001b[1;32m---> 13\u001b[1;33m \u001b[0mnext\u001b[0m\u001b[1;33m(\u001b[0m\u001b[0minput_\u001b[0m\u001b[1;33m)\u001b[0m\u001b[1;33m\u001b[0m\u001b[1;33m\u001b[0m\u001b[0m\n\u001b[0m",
      "\u001b[1;32m<ipython-input-17-71304d27888c>\u001b[0m in \u001b[0;36mnext\u001b[1;34m(self)\u001b[0m\n\u001b[0;32m      5\u001b[0m     \u001b[0mself\u001b[0m\u001b[1;33m.\u001b[0m\u001b[0mlst\u001b[0m \u001b[1;33m=\u001b[0m \u001b[1;33m[\u001b[0m\u001b[1;33m]\u001b[0m\u001b[1;33m\u001b[0m\u001b[1;33m\u001b[0m\u001b[0m\n\u001b[0;32m      6\u001b[0m \u001b[1;32mdef\u001b[0m \u001b[0mnext\u001b[0m\u001b[1;33m(\u001b[0m\u001b[0mself\u001b[0m\u001b[1;33m)\u001b[0m\u001b[1;33m:\u001b[0m\u001b[1;33m\u001b[0m\u001b[1;33m\u001b[0m\u001b[0m\n\u001b[1;32m----> 7\u001b[1;33m     \u001b[0mself\u001b[0m\u001b[1;33m.\u001b[0m\u001b[0mlst\u001b[0m \u001b[1;33m=\u001b[0m \u001b[0mlist\u001b[0m\u001b[1;33m(\u001b[0m\u001b[0mcombinations\u001b[0m\u001b[1;33m(\u001b[0m\u001b[0minput_\u001b[0m\u001b[1;33m[\u001b[0m\u001b[1;36m0\u001b[0m\u001b[1;33m]\u001b[0m\u001b[1;33m,\u001b[0m\u001b[0minput_\u001b[0m\u001b[1;33m[\u001b[0m\u001b[1;36m1\u001b[0m\u001b[1;33m]\u001b[0m\u001b[1;33m)\u001b[0m\u001b[1;33m)\u001b[0m\u001b[1;33m\u001b[0m\u001b[1;33m\u001b[0m\u001b[0m\n\u001b[0m\u001b[0;32m      8\u001b[0m     \u001b[0mroot_\u001b[0m \u001b[1;33m=\u001b[0m \u001b[0mself\u001b[0m\u001b[1;33m.\u001b[0m\u001b[0mlst\u001b[0m\u001b[1;33m[\u001b[0m\u001b[0mroot\u001b[0m\u001b[1;33m]\u001b[0m\u001b[1;33m\u001b[0m\u001b[1;33m\u001b[0m\u001b[0m\n\u001b[0;32m      9\u001b[0m     \u001b[0mans\u001b[0m \u001b[1;33m=\u001b[0m \u001b[0mself\u001b[0m\u001b[1;33m.\u001b[0m\u001b[0mlst\u001b[0m\u001b[1;33m[\u001b[0m\u001b[0mroot\u001b[0m\u001b[1;33m+\u001b[0m\u001b[1;36m1\u001b[0m\u001b[1;33m]\u001b[0m\u001b[1;33m\u001b[0m\u001b[1;33m\u001b[0m\u001b[0m\n",
      "\u001b[1;31mAttributeError\u001b[0m: 'tuple' object has no attribute 'lst'"
     ]
    }
   ],
   "source": [
    "from itertools import combinations\n",
    "input_ =(\"abc\",2)\n",
    "root = 0\n",
    "def __init__(self, characters, combination):\n",
    "    self.lst = []\n",
    "def next(self):\n",
    "    self.lst = list(combinations(input_[0],input_[1]))\n",
    "    root_ = self.lst[root]\n",
    "    ans = self.lst[root+1]\n",
    "    root += 1\n",
    "    next_ = root+1\n",
    "    return (ans)\n",
    "next(input_)   "
   ]
  },
  {
   "cell_type": "code",
   "execution_count": 18,
   "metadata": {},
   "outputs": [
    {
     "name": "stdout",
     "output_type": "stream",
     "text": [
      "3\n",
      "[('a', 'b'), ('a', 'c'), ('b', 'c')]\n",
      "('a', 'b') a b\n"
     ]
    }
   ],
   "source": [
    "str_=' '\n",
    "input_ =(\"abc\",2)\n",
    "print(len(input_[0]))\n",
    "lst = list(combinations(input_[0],input_[1]))\n",
    "print(lst)\n",
    "root_ =lst[0]\n",
    "x = str_.join(root_)\n",
    "print(root_,x)\n",
    "# str_ = ' '.join(lst)"
   ]
  },
  {
   "cell_type": "markdown",
   "metadata": {},
   "source": [
    "### 8/14"
   ]
  },
  {
   "cell_type": "code",
   "execution_count": 19,
   "metadata": {},
   "outputs": [],
   "source": [
    "from collections import Counter\n",
    "class Solution:\n",
    "    def longestPalindrome(self, s: str) -> int:  \n",
    "        s1 = Counter(s)\n",
    "        d_word_lst = []\n",
    "        a_word_lst = []\n",
    "        max2ina_word = []\n",
    "        for i in s1:\n",
    "            lst = []\n",
    "            lst2 = []\n",
    "            if s1[i]%2 == 0:\n",
    "                lst.append(i)\n",
    "                d_word = lst[0]\n",
    "                d_word_lst.append(s1[d_word])\n",
    "            else:\n",
    "                lst2.append(i)\n",
    "                a_word = lst2[0]\n",
    "                a_word_lst.append(s1[a_word])\n",
    "        for i in a_word_lst:\n",
    "            max2ina_word.append(i//2)\n",
    "        max2 = sum(max2ina_word) if len(max2ina_word) != 0 else 0\n",
    "        ans = sum(d_word_lst) if len(a_word_lst) == 0 else sum(d_word_lst)+max2*2+1\n",
    "        ans = ans if len(d_word_lst) != 0 else max2*2+1\n",
    "        return ans"
   ]
  },
  {
   "cell_type": "code",
   "execution_count": 20,
   "metadata": {},
   "outputs": [
    {
     "data": {
      "text/plain": [
       "7"
      ]
     },
     "execution_count": 20,
     "metadata": {},
     "output_type": "execute_result"
    }
   ],
   "source": [
    "s = \"abccccdd\"\n",
    "Solution.longestPalindrome(s,s)"
   ]
  }
 ],
 "metadata": {
  "kernelspec": {
   "display_name": "Python 3",
   "language": "python",
   "name": "python3"
  },
  "language_info": {
   "codemirror_mode": {
    "name": "ipython",
    "version": 3
   },
   "file_extension": ".py",
   "mimetype": "text/x-python",
   "name": "python",
   "nbconvert_exporter": "python",
   "pygments_lexer": "ipython3",
   "version": "3.8.2"
  }
 },
 "nbformat": 4,
 "nbformat_minor": 4
}
