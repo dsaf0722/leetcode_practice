{
 "cells": [
  {
   "cell_type": "markdown",
   "metadata": {},
   "source": [
    "### August_Week3 leetcode "
   ]
  },
  {
   "cell_type": "markdown",
   "metadata": {},
   "source": [
    "### 8/15 "
   ]
  },
  {
   "cell_type": "markdown",
   "metadata": {},
   "source": [
    "### Non-overlapping Intervals "
   ]
  },
  {
   "cell_type": "code",
   "execution_count": null,
   "metadata": {},
   "outputs": [],
   "source": []
  },
  {
   "cell_type": "code",
   "execution_count": null,
   "metadata": {},
   "outputs": [],
   "source": []
  },
  {
   "cell_type": "code",
   "execution_count": null,
   "metadata": {},
   "outputs": [],
   "source": []
  },
  {
   "cell_type": "markdown",
   "metadata": {},
   "source": [
    "### 8/16"
   ]
  },
  {
   "cell_type": "markdown",
   "metadata": {},
   "source": [
    "### Best Time to Buy and Sell Stock III"
   ]
  },
  {
   "cell_type": "code",
   "execution_count": null,
   "metadata": {},
   "outputs": [],
   "source": []
  },
  {
   "cell_type": "code",
   "execution_count": null,
   "metadata": {},
   "outputs": [],
   "source": []
  },
  {
   "cell_type": "code",
   "execution_count": null,
   "metadata": {},
   "outputs": [],
   "source": []
  },
  {
   "cell_type": "markdown",
   "metadata": {},
   "source": [
    "### 8/17 "
   ]
  },
  {
   "cell_type": "markdown",
   "metadata": {},
   "source": [
    "### Distribute Candies to People"
   ]
  },
  {
   "cell_type": "code",
   "execution_count": 63,
   "metadata": {},
   "outputs": [],
   "source": [
    "class Solution:\n",
    "    def distributeCandies(self, candies, num_people):\n",
    "        Remaining = candies\n",
    "        ans = []\n",
    "        i = 1\n",
    "        num = 0\n",
    "        final_ = []\n",
    "        while len(ans) < num_people and Remaining >= i:\n",
    "            Remaining = Remaining - i\n",
    "            ans.append([num,i])\n",
    "            i += 1\n",
    "            num += 1 \n",
    "            num = 0 if num == num_people else num \n",
    "        while Remaining > i:\n",
    "            ans[num][1] += i\n",
    "            Remaining = Remaining - i\n",
    "            i += 1\n",
    "            num += 1\n",
    "            num = 0 if num == num_people else num \n",
    "        if Remaining <= i and Remaining != 0:\n",
    "            if num > len(ans)-1:\n",
    "                ans.append([num,Remaining])   \n",
    "            else:\n",
    "                ans[num][1] += Remaining\n",
    "        for ans in ans:\n",
    "            final_.append(ans[1])    \n",
    "        while len(final_) < num_people:\n",
    "            final_.append(0)\n",
    "        return final_ "
   ]
  },
  {
   "cell_type": "code",
   "execution_count": 72,
   "metadata": {},
   "outputs": [
    {
     "data": {
      "text/plain": [
       "[1, 2, 3, 1]"
      ]
     },
     "execution_count": 72,
     "metadata": {},
     "output_type": "execute_result"
    }
   ],
   "source": [
    "candies = 7\n",
    "num_people = 4\n",
    "Solution.distributeCandies(candies,candies,num_people)"
   ]
  },
  {
   "cell_type": "markdown",
   "metadata": {},
   "source": [
    "### 1470. Shuffle the Array"
   ]
  },
  {
   "cell_type": "code",
   "execution_count": 59,
   "metadata": {},
   "outputs": [],
   "source": [
    "def shuffle(nums, n):\n",
    "    lst1 = []\n",
    "    lst2 = []\n",
    "    ans = []\n",
    "    for i in range(n):\n",
    "        lst1.append(nums[i]) \n",
    "    for j in range(n,len(nums)):\n",
    "        lst2.append(nums[j])\n",
    "    for k in range(len(lst1)):\n",
    "        ans.append(lst1[k])\n",
    "        ans.append(lst2[k])\n",
    "    return ans"
   ]
  },
  {
   "cell_type": "code",
   "execution_count": 60,
   "metadata": {},
   "outputs": [
    {
     "data": {
      "text/plain": [
       "[2, 3, 5, 4, 1, 7]"
      ]
     },
     "execution_count": 60,
     "metadata": {},
     "output_type": "execute_result"
    }
   ],
   "source": [
    "List = [2,5,1,3,4,7]\n",
    "n = 3\n",
    "shuffle(List,n)"
   ]
  },
  {
   "cell_type": "markdown",
   "metadata": {},
   "source": [
    "### 1480. Running Sum of 1d Array  "
   ]
  },
  {
   "cell_type": "code",
   "execution_count": 8,
   "metadata": {},
   "outputs": [
    {
     "name": "stdout",
     "output_type": "stream",
     "text": [
      "[2, 5, 1]\n"
     ]
    }
   ],
   "source": [
    "lst1 = []\n",
    "lst2 = []\n",
    "for i in range(len(List)//2):\n",
    "    lst1.append(List[i]) \n",
    "print(lst1)"
   ]
  },
  {
   "cell_type": "code",
   "execution_count": 53,
   "metadata": {},
   "outputs": [
    {
     "data": {
      "text/plain": [
       "3"
      ]
     },
     "execution_count": 53,
     "metadata": {},
     "output_type": "execute_result"
    }
   ],
   "source": [
    "lst = [1,2,3,4,5]\n",
    "sum(lst[:2])"
   ]
  },
  {
   "cell_type": "code",
   "execution_count": 26,
   "metadata": {},
   "outputs": [
    {
     "name": "stdout",
     "output_type": "stream",
     "text": [
      "[1, 3, 6, 10]\n"
     ]
    }
   ],
   "source": [
    "ans = []\n",
    "x = list(enumerate(lst))\n",
    "for i in range(len(x)):\n",
    "    ans.append(sum(lst[:i]))\n",
    "print(ans[1:])"
   ]
  },
  {
   "cell_type": "code",
   "execution_count": 51,
   "metadata": {},
   "outputs": [],
   "source": [
    "a =[5,4,3,3,3,1,0,0]"
   ]
  },
  {
   "cell_type": "code",
   "execution_count": 52,
   "metadata": {},
   "outputs": [
    {
     "data": {
      "text/plain": [
       "[5, 9, 12, 15, 18, 19, 19, 19]"
      ]
     },
     "execution_count": 52,
     "metadata": {},
     "output_type": "execute_result"
    }
   ],
   "source": [
    "lst = []\n",
    "for i in range(len(a)-1):\n",
    "    a[i+1] += a[i]\n",
    "    lst.append(a[i+1])\n",
    "lst = [a[0]]+lst\n",
    "lst"
   ]
  },
  {
   "cell_type": "markdown",
   "metadata": {},
   "source": [
    "### 8/18 "
   ]
  },
  {
   "cell_type": "markdown",
   "metadata": {},
   "source": [
    "### 1431. Kids With the Greatest Number of Candies\n"
   ]
  },
  {
   "cell_type": "code",
   "execution_count": 1,
   "metadata": {},
   "outputs": [],
   "source": [
    "class Solution:\n",
    "    def kidsWithCandies(self, candies, extraCandies):\n",
    "        ans = []\n",
    "        for i in candies:\n",
    "            if i+extraCandies >= max(candies) :\n",
    "                ans.append(True)\n",
    "            else:\n",
    "                ans.append(False)\n",
    "        return ans"
   ]
  },
  {
   "cell_type": "markdown",
   "metadata": {},
   "source": [
    "### Numbers With Same Consecutive Differences"
   ]
  },
  {
   "cell_type": "code",
   "execution_count": 62,
   "metadata": {},
   "outputs": [
    {
     "name": "stdout",
     "output_type": "stream",
     "text": [
      "[181, 292, 707, 818, 929]\n"
     ]
    }
   ],
   "source": [
    "# Time exceed\n",
    "N = 3\n",
    "K = 7\n",
    "max_num = 10**N \n",
    "min_num = 0 if N == 1 else 10**(N-1)\n",
    "ans = []\n",
    "for n in range(min_num,max_num):\n",
    "    range_lst = []\n",
    "    for k in str(n):\n",
    "        range_lst.append(k)\n",
    "    bool_lst = []\n",
    "    m = 0\n",
    "    while m < N-1: \n",
    "        if abs(int(range_lst[m]) - int(range_lst[m+1])) == K:\n",
    "            m += 1\n",
    "            continue\n",
    "        else:\n",
    "            break\n",
    "    if m == N-1:       \n",
    "        ans.append(n)\n",
    "print(ans)"
   ]
  },
  {
   "cell_type": "code",
   "execution_count": 63,
   "metadata": {},
   "outputs": [],
   "source": [
    "range_ = [str(i) for i in range(10**(N-1),10**N)]\n",
    "range_ = ['0'] + range_ if N==1 else range_\n",
    "ans = []\n",
    "for n in range_:\n",
    "    range_lst = []\n",
    "    for k in n:\n",
    "        range_lst.append(k)\n",
    "    bool_lst = []\n",
    "    for m in range(2): \n",
    "        if abs(int(range_lst[m]) - int(range_lst[m+1])) == K:\n",
    "            ans.append([range_lst[m],range_lst[m+1]])\n",
    "            break\n",
    "        else:\n",
    "            break"
   ]
  },
  {
   "cell_type": "code",
   "execution_count": 68,
   "metadata": {},
   "outputs": [
    {
     "data": {
      "text/plain": [
       "[101,\n",
       " 121,\n",
       " 212,\n",
       " 232,\n",
       " 323,\n",
       " 343,\n",
       " 434,\n",
       " 454,\n",
       " 545,\n",
       " 565,\n",
       " 656,\n",
       " 676,\n",
       " 767,\n",
       " 787,\n",
       " 878,\n",
       " 898,\n",
       " 989]"
      ]
     },
     "execution_count": 68,
     "metadata": {},
     "output_type": "execute_result"
    }
   ],
   "source": [
    "# loss some answer\n",
    "N = 3\n",
    "K = 1\n",
    "lst = []\n",
    "for i in range(10):\n",
    "    for j in range(10):\n",
    "        if abs(i-j)==K:\n",
    "            lst.append([str(i),str(j)])\n",
    "ans_ele = lst[1:]\n",
    "ans_lst = []\n",
    "ans = []\n",
    "for n in ans_ele:\n",
    "    ans.append(n*5)\n",
    "final = []\n",
    "for i in range(len(ans)):\n",
    "    final += [ans[i][:N]]\n",
    "ans_lst = []\n",
    "for num in final:\n",
    "    answer = ''\n",
    "    for a in num:\n",
    "        answer += a\n",
    "    ans_lst.append(int(answer))\n",
    "if N == 1:\n",
    "    ans_lst = [0,1,2,3,4,5,6,7,8,9]\n",
    "ans_lst\n",
    "             "
   ]
  },
  {
   "cell_type": "code",
   "execution_count": 55,
   "metadata": {},
   "outputs": [],
   "source": [
    "# Final solution\n",
    "def numsSameConsecDiff(N, K):\n",
    "    if N == 1:\n",
    "        ans = [0,1,2,3,4,5,6,7,8,9]\n",
    "    else:\n",
    "        times = 0\n",
    "        while times < N-1:\n",
    "            if times == 0:\n",
    "                lst = []\n",
    "                for n in range(1,10):\n",
    "                    next_A = n+K if n+K < 10 else n-K\n",
    "                    next_B = n-K if n-K > 0 else n+K\n",
    "                    next_B = 0 if n-K == 0 else next_B\n",
    "                    if 10 > next_A >= 0:\n",
    "                        lst.append((str(n)+str(next_A)))\n",
    "                    if 10 > next_B >= 0: \n",
    "                        lst.append((str(n)+str(next_B)))\n",
    "                x = list(set(lst))\n",
    "                x.sort()\n",
    "                times += 1\n",
    "            elif times > 0:\n",
    "                lst = []\n",
    "                for n in x:\n",
    "                    next_A = int(n[-1])+K if int(n[-1])+K < 10 else int(n[-1])-K\n",
    "                    next_B = int(n[-1])-K if int(n[-1])-K > 0 else int(n[-1])+K\n",
    "                    next_B = 0 if int(n[-1])-K == 0 else next_B\n",
    "                    if 10 > next_A >= 0:\n",
    "                        lst.append((n)+str(next_A))\n",
    "                    if 10 > next_B >= 0:\n",
    "                        lst.append((n)+str(next_B))\n",
    "                x = list(set(lst))\n",
    "                x.sort()\n",
    "                times += 1\n",
    "        ans = []\n",
    "        for i in x:\n",
    "            ans.append(int(i))\n",
    "    return ans"
   ]
  },
  {
   "cell_type": "code",
   "execution_count": 56,
   "metadata": {},
   "outputs": [],
   "source": [
    "N=3\n",
    "K=7"
   ]
  },
  {
   "cell_type": "code",
   "execution_count": 58,
   "metadata": {},
   "outputs": [
    {
     "data": {
      "text/plain": [
       "[181, 292, 707, 818, 929]"
      ]
     },
     "execution_count": 58,
     "metadata": {},
     "output_type": "execute_result"
    }
   ],
   "source": [
    "numsSameConsecDiff(N,K)"
   ]
  },
  {
   "cell_type": "markdown",
   "metadata": {},
   "source": [
    "### 8/19"
   ]
  },
  {
   "cell_type": "markdown",
   "metadata": {},
   "source": [
    "### 1512. Number of Good Pairs"
   ]
  },
  {
   "cell_type": "code",
   "execution_count": 7,
   "metadata": {},
   "outputs": [],
   "source": [
    "class Solution:\n",
    "    def numIdenticalPairs(self, nums):\n",
    "        ans = 0\n",
    "        for i in range(len(nums)):\n",
    "            for j in range(1,len(nums)):\n",
    "                if nums[i] == nums[j] and i<j:\n",
    "                    ans += 1\n",
    "        return ans"
   ]
  },
  {
   "cell_type": "code",
   "execution_count": 8,
   "metadata": {},
   "outputs": [
    {
     "data": {
      "text/plain": [
       "4"
      ]
     },
     "execution_count": 8,
     "metadata": {},
     "output_type": "execute_result"
    }
   ],
   "source": [
    "nums = [1,2,3,1,1,3]\n",
    "Solution.numIdenticalPairs(nums,nums)"
   ]
  },
  {
   "cell_type": "markdown",
   "metadata": {},
   "source": [
    "### Goat Latin"
   ]
  },
  {
   "cell_type": "code",
   "execution_count": 24,
   "metadata": {},
   "outputs": [],
   "source": [
    "import re\n",
    "class Solution:\n",
    "    def toGoatLatin(self, S: str) -> str:\n",
    "        vowel_lst = ['a','e','i','o','u','A','E','I','O','U']\n",
    "        S = S + ' '\n",
    "        pattern = r'[a-zA-Z]+ '\n",
    "        str_lst = re.findall(pattern,S)\n",
    "        ans = ''\n",
    "        str_lst2 = []\n",
    "        for i in str_lst:\n",
    "            i = i.replace(' ','')\n",
    "            str_lst2.append(i)\n",
    "        for i in range(len(str_lst2)):\n",
    "            if str_lst2[i][0] in vowel_lst:\n",
    "                ans += str_lst2[i]+'m'+'a'*(i+2)\n",
    "            else:\n",
    "                ans += str_lst2[i][1:]+str_lst2[i][0]+'m'+'a'*(i+2)\n",
    "            if i != len(str_lst2)-1:\n",
    "                ans += ' '\n",
    "        return ans "
   ]
  },
  {
   "cell_type": "code",
   "execution_count": 25,
   "metadata": {},
   "outputs": [
    {
     "data": {
      "text/plain": [
       "'Imaa peaksmaaa oatGmaaaa atinLmaaaaa'"
      ]
     },
     "execution_count": 25,
     "metadata": {},
     "output_type": "execute_result"
    }
   ],
   "source": [
    "S = \"I speak Goat Latin\"\n",
    "toGoatLatin(S,S)"
   ]
  },
  {
   "cell_type": "markdown",
   "metadata": {},
   "source": [
    "### 8/20"
   ]
  },
  {
   "cell_type": "code",
   "execution_count": null,
   "metadata": {},
   "outputs": [],
   "source": []
  },
  {
   "cell_type": "code",
   "execution_count": null,
   "metadata": {},
   "outputs": [],
   "source": []
  },
  {
   "cell_type": "code",
   "execution_count": null,
   "metadata": {},
   "outputs": [],
   "source": []
  }
 ],
 "metadata": {
  "kernelspec": {
   "display_name": "Python 3",
   "language": "python",
   "name": "python3"
  },
  "language_info": {
   "codemirror_mode": {
    "name": "ipython",
    "version": 3
   },
   "file_extension": ".py",
   "mimetype": "text/x-python",
   "name": "python",
   "nbconvert_exporter": "python",
   "pygments_lexer": "ipython3",
   "version": "3.8.2"
  }
 },
 "nbformat": 4,
 "nbformat_minor": 4
}
