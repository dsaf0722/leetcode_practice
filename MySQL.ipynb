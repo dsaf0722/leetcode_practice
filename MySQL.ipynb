{
 "cells": [
  {
   "cell_type": "code",
   "execution_count": 6,
   "metadata": {},
   "outputs": [],
   "source": [
    "import mysql.connector"
   ]
  },
  {
   "cell_type": "code",
   "execution_count": 17,
   "metadata": {},
   "outputs": [],
   "source": [
    "mydb = mysql.connector.connect(\n",
    "    host=\"localhost\",\n",
    "    user=\"root\",\n",
    "    password=\"Mickey820722\"\n",
    ")\n",
    "\n",
    "mycursor = mydb.cursor()\n",
    "mycursor.execute(\"CREATE DATABASE mydatabase\")\n"
   ]
  },
  {
   "cell_type": "code",
   "execution_count": 2,
   "metadata": {},
   "outputs": [],
   "source": [
    "# INSERT INTO `table_name` (‵column1‵，‵column2‵，‵column3‵) VALUES(`1`，`0`，`0`)；\n",
    "# alter table table_name add column status;"
   ]
  },
  {
   "cell_type": "code",
   "execution_count": 4,
   "metadata": {},
   "outputs": [],
   "source": [
    "# UPDATE ‵table_name‵  SET  `status`='1' WHERE id = 1;\n",
    "# ALTER TABLE old_table_name rename new_table_name; "
   ]
  },
  {
   "cell_type": "code",
   "execution_count": 5,
   "metadata": {},
   "outputs": [],
   "source": [
    "# DELETE `table_name` WHERE id=1;\n",
    "# 修改欄位刪除 : alter table table_name drop column\n",
    "# drop database 資料庫名稱;\n",
    "# drop table 資料表名稱;\n",
    "# drop 欄位名稱;\n",
    "# alter table table_name modify column column_name char(30);"
   ]
  },
  {
   "cell_type": "code",
   "execution_count": 1,
   "metadata": {},
   "outputs": [],
   "source": [
    "# SELECT * or column FROM `table_name` WHERE id = 1;\n",
    "# SHOW DATABASES;\n",
    "# CREATE DATABASES DATABASES_name;\n",
    "# CREATE TABLE TABLE_name FROM mydatabases"
   ]
  },
  {
   "cell_type": "code",
   "execution_count": 8,
   "metadata": {},
   "outputs": [],
   "source": [
    "# change cmd: Use database_name "
   ]
  }
 ],
 "metadata": {
  "kernelspec": {
   "display_name": "Python 3",
   "language": "python",
   "name": "python3"
  },
  "language_info": {
   "codemirror_mode": {
    "name": "ipython",
    "version": 3
   },
   "file_extension": ".py",
   "mimetype": "text/x-python",
   "name": "python",
   "nbconvert_exporter": "python",
   "pygments_lexer": "ipython3",
   "version": "3.8.2"
  }
 },
 "nbformat": 4,
 "nbformat_minor": 4
}
